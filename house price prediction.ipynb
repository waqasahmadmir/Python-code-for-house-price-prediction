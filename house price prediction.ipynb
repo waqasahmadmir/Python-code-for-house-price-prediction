{
  "cells": [
    {
      "cell_type": "code",
      "source": [
        "import pandas as pd\n",
        "import numpy as np\n",
        "\n",
        "from google.colab import files\n",
        "uploaded=files.upload()\n",
        "data= pd.read_csv('Bengaluru_House_Data.csv')\n"
      ],
      "outputs": [
        {
          "output_type": "display_data",
          "data": {
            "text/html": "\n     <input type=\"file\" id=\"files-aeea4274-508e-4e98-8915-4b1c2a2be575\" name=\"files[]\" multiple disabled\n        style=\"border:none\" />\n     <output id=\"result-aeea4274-508e-4e98-8915-4b1c2a2be575\">\n      Upload widget is only available when the cell has been executed in the\n      current browser session. Please rerun this cell to enable.\n      </output>\n      <script src=\"/nbextensions/google.colab/files.js\"></script> ",
            "text/plain": "<IPython.core.display.HTML object>"
          },
          "metadata": {}
        },
        {
          "output_type": "stream",
          "name": "stdout",
          "text": "Saving Bengaluru_House_Data.csv to Bengaluru_House_Data.csv\n"
        }
      ],
      "execution_count": 1,
      "metadata": {
        "colab": {
          "resources": {
            "http://localhost:8080/nbextensions/google.colab/files.js": {
              "data": "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",
              "ok": true,
              "headers": [
                [
                  "content-type",
                  "application/javascript"
                ]
              ],
              "status": 200,
              "status_text": ""
            }
          },
          "base_uri": "https://localhost:8080/",
          "height": 74
        },
        "id": "oaVE_7PkMLfT",
        "outputId": "976a232a-ef24-45dc-9c2f-6bc0dec28d1b"
      }
    },
    {
      "cell_type": "code",
      "source": [
        "data.head()\n"
      ],
      "outputs": [
        {
          "output_type": "execute_result",
          "execution_count": 2,
          "data": {
            "text/html": "\n  <div id=\"df-63b78997-8a39-4e57-9244-a558e672413b\">\n    <div class=\"colab-df-container\">\n      <div>\n<style scoped>\n    .dataframe tbody tr th:only-of-type {\n        vertical-align: middle;\n    }\n\n    .dataframe tbody tr th {\n        vertical-align: top;\n    }\n\n    .dataframe thead th {\n        text-align: right;\n    }\n</style>\n<table border=\"1\" class=\"dataframe\">\n  <thead>\n    <tr style=\"text-align: right;\">\n      <th></th>\n      <th>area_type</th>\n      <th>availability</th>\n      <th>location</th>\n      <th>size</th>\n      <th>society</th>\n      <th>total_sqft</th>\n      <th>bath</th>\n      <th>balcony</th>\n      <th>price</th>\n    </tr>\n  </thead>\n  <tbody>\n    <tr>\n      <th>0</th>\n      <td>Super built-up  Area</td>\n      <td>19-Dec</td>\n      <td>Electronic City Phase II</td>\n      <td>2 BHK</td>\n      <td>Coomee</td>\n      <td>1056</td>\n      <td>2.0</td>\n      <td>1.0</td>\n      <td>39.07</td>\n    </tr>\n    <tr>\n      <th>1</th>\n      <td>Plot  Area</td>\n      <td>Ready To Move</td>\n      <td>Chikka Tirupathi</td>\n      <td>4 Bedroom</td>\n      <td>Theanmp</td>\n      <td>2600</td>\n      <td>5.0</td>\n      <td>3.0</td>\n      <td>120.00</td>\n    </tr>\n    <tr>\n      <th>2</th>\n      <td>Built-up  Area</td>\n      <td>Ready To Move</td>\n      <td>Uttarahalli</td>\n      <td>3 BHK</td>\n      <td>NaN</td>\n      <td>1440</td>\n      <td>2.0</td>\n      <td>3.0</td>\n      <td>62.00</td>\n    </tr>\n    <tr>\n      <th>3</th>\n      <td>Super built-up  Area</td>\n      <td>Ready To Move</td>\n      <td>Lingadheeranahalli</td>\n      <td>3 BHK</td>\n      <td>Soiewre</td>\n      <td>1521</td>\n      <td>3.0</td>\n      <td>1.0</td>\n      <td>95.00</td>\n    </tr>\n    <tr>\n      <th>4</th>\n      <td>Super built-up  Area</td>\n      <td>Ready To Move</td>\n      <td>Kothanur</td>\n      <td>2 BHK</td>\n      <td>NaN</td>\n      <td>1200</td>\n      <td>2.0</td>\n      <td>1.0</td>\n      <td>51.00</td>\n    </tr>\n  </tbody>\n</table>\n</div>\n      <button class=\"colab-df-convert\" onclick=\"convertToInteractive('df-63b78997-8a39-4e57-9244-a558e672413b')\"\n              title=\"Convert this dataframe to an interactive table.\"\n              style=\"display:none;\">\n        \n  <svg xmlns=\"http://www.w3.org/2000/svg\" height=\"24px\"viewBox=\"0 0 24 24\"\n       width=\"24px\">\n    <path d=\"M0 0h24v24H0V0z\" fill=\"none\"/>\n    <path d=\"M18.56 5.44l.94 2.06.94-2.06 2.06-.94-2.06-.94-.94-2.06-.94 2.06-2.06.94zm-11 1L8.5 8.5l.94-2.06 2.06-.94-2.06-.94L8.5 2.5l-.94 2.06-2.06.94zm10 10l.94 2.06.94-2.06 2.06-.94-2.06-.94-.94-2.06-.94 2.06-2.06.94z\"/><path d=\"M17.41 7.96l-1.37-1.37c-.4-.4-.92-.59-1.43-.59-.52 0-1.04.2-1.43.59L10.3 9.45l-7.72 7.72c-.78.78-.78 2.05 0 2.83L4 21.41c.39.39.9.59 1.41.59.51 0 1.02-.2 1.41-.59l7.78-7.78 2.81-2.81c.8-.78.8-2.07 0-2.86zM5.41 20L4 18.59l7.72-7.72 1.47 1.35L5.41 20z\"/>\n  </svg>\n      </button>\n      \n  <style>\n    .colab-df-container {\n      display:flex;\n      flex-wrap:wrap;\n      gap: 12px;\n    }\n\n    .colab-df-convert {\n      background-color: #E8F0FE;\n      border: none;\n      border-radius: 50%;\n      cursor: pointer;\n      display: none;\n      fill: #1967D2;\n      height: 32px;\n      padding: 0 0 0 0;\n      width: 32px;\n    }\n\n    .colab-df-convert:hover {\n      background-color: #E2EBFA;\n      box-shadow: 0px 1px 2px rgba(60, 64, 67, 0.3), 0px 1px 3px 1px rgba(60, 64, 67, 0.15);\n      fill: #174EA6;\n    }\n\n    [theme=dark] .colab-df-convert {\n      background-color: #3B4455;\n      fill: #D2E3FC;\n    }\n\n    [theme=dark] .colab-df-convert:hover {\n      background-color: #434B5C;\n      box-shadow: 0px 1px 3px 1px rgba(0, 0, 0, 0.15);\n      filter: drop-shadow(0px 1px 2px rgba(0, 0, 0, 0.3));\n      fill: #FFFFFF;\n    }\n  </style>\n\n      <script>\n        const buttonEl =\n          document.querySelector('#df-63b78997-8a39-4e57-9244-a558e672413b button.colab-df-convert');\n        buttonEl.style.display =\n          google.colab.kernel.accessAllowed ? 'block' : 'none';\n\n        async function convertToInteractive(key) {\n          const element = document.querySelector('#df-63b78997-8a39-4e57-9244-a558e672413b');\n          const dataTable =\n            await google.colab.kernel.invokeFunction('convertToInteractive',\n                                                     [key], {});\n          if (!dataTable) return;\n\n          const docLinkHtml = 'Like what you see? Visit the ' +\n            '<a target=\"_blank\" href=https://colab.research.google.com/notebooks/data_table.ipynb>data table notebook</a>'\n            + ' to learn more about interactive tables.';\n          element.innerHTML = '';\n          dataTable['output_type'] = 'display_data';\n          await google.colab.output.renderOutput(dataTable, element);\n          const docLink = document.createElement('div');\n          docLink.innerHTML = docLinkHtml;\n          element.appendChild(docLink);\n        }\n      </script>\n    </div>\n  </div>\n  ",
            "text/plain": "              area_type   availability  ... balcony   price\n0  Super built-up  Area         19-Dec  ...     1.0   39.07\n1            Plot  Area  Ready To Move  ...     3.0  120.00\n2        Built-up  Area  Ready To Move  ...     3.0   62.00\n3  Super built-up  Area  Ready To Move  ...     1.0   95.00\n4  Super built-up  Area  Ready To Move  ...     1.0   51.00\n\n[5 rows x 9 columns]"
          },
          "metadata": {}
        }
      ],
      "execution_count": 2,
      "metadata": {
        "id": "pxKy_hfcNEGF",
        "colab": {
          "base_uri": "https://localhost:8080/",
          "height": 206
        },
        "outputId": "a7befa4d-019a-4388-e1e9-df8dcf5d37ba"
      }
    },
    {
      "cell_type": "code",
      "source": [
        "data.shape\n"
      ],
      "outputs": [
        {
          "output_type": "execute_result",
          "execution_count": 3,
          "data": {
            "text/plain": "(13320, 9)"
          },
          "metadata": {}
        }
      ],
      "execution_count": 3,
      "metadata": {
        "id": "oh9-NR8uNECt",
        "colab": {
          "base_uri": "https://localhost:8080/"
        },
        "outputId": "8aae93a6-2db8-471e-8f8d-6a9e66e3cc8e"
      }
    },
    {
      "cell_type": "code",
      "source": [
        "data.info"
      ],
      "outputs": [
        {
          "output_type": "execute_result",
          "execution_count": 4,
          "data": {
            "text/plain": "<bound method DataFrame.info of                   area_type   availability  ... balcony   price\n0      Super built-up  Area         19-Dec  ...     1.0   39.07\n1                Plot  Area  Ready To Move  ...     3.0  120.00\n2            Built-up  Area  Ready To Move  ...     3.0   62.00\n3      Super built-up  Area  Ready To Move  ...     1.0   95.00\n4      Super built-up  Area  Ready To Move  ...     1.0   51.00\n...                     ...            ...  ...     ...     ...\n13315        Built-up  Area  Ready To Move  ...     0.0  231.00\n13316  Super built-up  Area  Ready To Move  ...     NaN  400.00\n13317        Built-up  Area  Ready To Move  ...     1.0   60.00\n13318  Super built-up  Area         18-Jun  ...     1.0  488.00\n13319  Super built-up  Area  Ready To Move  ...     1.0   17.00\n\n[13320 rows x 9 columns]>"
          },
          "metadata": {}
        }
      ],
      "execution_count": 4,
      "metadata": {
        "id": "4WNk7pslNEAC",
        "colab": {
          "base_uri": "https://localhost:8080/"
        },
        "outputId": "13c6e16a-d494-4511-d5f0-0efe79261e4b"
      }
    },
    {
      "cell_type": "code",
      "source": [
        "for column in data.columns:\n",
        "  print(data[column].value_counts())\n",
        "  print(\"*\"*50)"
      ],
      "outputs": [
        {
          "output_type": "stream",
          "name": "stdout",
          "text": "Super built-up  Area    8790\nBuilt-up  Area          2418\nPlot  Area              2025\nCarpet  Area              87\nName: area_type, dtype: int64\n**************************************************\nReady To Move    10581\n18-Dec             307\n18-May             295\n18-Apr             271\n18-Aug             200\n                 ...  \n16-Jan               1\n17-Jan               1\n16-Jul               1\n15-Jun               1\n15-Aug               1\nName: availability, Length: 81, dtype: int64\n**************************************************\nWhitefield                                      540\nSarjapur  Road                                  399\nElectronic City                                 302\nKanakpura Road                                  273\nThanisandra                                     234\n                                               ... \n4 Bedroom Farm House in Bagalur                   1\nBTM Layout 1stage 9th Main                        1\n2 Bedroom Furnished Farm House in Kolar Road      1\nBinnamangala                                      1\nDouble Road                                       1\nName: location, Length: 1305, dtype: int64\n**************************************************\n2 BHK         5199\n3 BHK         4310\n4 Bedroom      826\n4 BHK          591\n3 Bedroom      547\n1 BHK          538\n2 Bedroom      329\n5 Bedroom      297\n6 Bedroom      191\n1 Bedroom      105\n8 Bedroom       84\n7 Bedroom       83\n5 BHK           59\n9 Bedroom       46\n6 BHK           30\n7 BHK           17\n1 RK            13\n10 Bedroom      12\n9 BHK            8\n8 BHK            5\n11 BHK           2\n10 BHK           2\n11 Bedroom       2\n27 BHK           1\n19 BHK           1\n16 BHK           1\n18 Bedroom       1\n43 Bedroom       1\n13 BHK           1\n14 BHK           1\n12 Bedroom       1\nName: size, dtype: int64\n**************************************************\nGrrvaGr    80\nPrarePa    76\nSryalan    59\nPrtates    59\nGMown E    56\n           ..\nSyOnen      1\nSRldsnt     1\nRaiewLa     1\nVehes L     1\nSpity E     1\nName: society, Length: 2688, dtype: int64\n**************************************************\n1200    843\n1100    221\n1500    205\n2400    196\n600     180\n       ... \n2086      1\n1317      1\n808       1\n1401      1\n3092      1\nName: total_sqft, Length: 2117, dtype: int64\n**************************************************\n2.0     6908\n3.0     3286\n4.0     1226\n1.0      788\n5.0      524\n6.0      273\n7.0      102\n8.0       64\n9.0       43\n10.0      13\n12.0       7\n13.0       3\n11.0       3\n16.0       2\n27.0       1\n18.0       1\n40.0       1\n15.0       1\n14.0       1\nName: bath, dtype: int64\n**************************************************\n2.0    5113\n1.0    4897\n3.0    1672\n0.0    1029\nName: balcony, dtype: int64\n**************************************************\n75.00    310\n65.00    302\n55.00    275\n60.00    270\n45.00    240\n        ... \n81.55      1\n69.49      1\n42.18      1\n70.25      1\n74.82      1\nName: price, Length: 1994, dtype: int64\n**************************************************\n"
        }
      ],
      "execution_count": 5,
      "metadata": {
        "id": "CNPn-eItNiSB",
        "colab": {
          "base_uri": "https://localhost:8080/"
        },
        "outputId": "18f2bb2a-7be8-48b7-931f-753e94d279c1"
      }
    },
    {
      "cell_type": "code",
      "source": [
        "data.isna().sum()"
      ],
      "outputs": [
        {
          "output_type": "execute_result",
          "execution_count": 6,
          "data": {
            "text/plain": "area_type          0\navailability       0\nlocation           1\nsize              16\nsociety         5502\ntotal_sqft         0\nbath              73\nbalcony          609\nprice              0\ndtype: int64"
          },
          "metadata": {}
        }
      ],
      "execution_count": 6,
      "metadata": {
        "id": "jV6NwIWUNiOc",
        "colab": {
          "base_uri": "https://localhost:8080/"
        },
        "outputId": "c7381a13-9adb-4266-9b49-a380604ff6a2"
      }
    },
    {
      "cell_type": "code",
      "source": [
        "data.drop(columns=['area_type', 'availability', 'society', 'balcony'], inplace=True)"
      ],
      "outputs": [],
      "execution_count": 7,
      "metadata": {
        "id": "VD0Yt8ukNiLy"
      }
    },
    {
      "cell_type": "code",
      "source": [
        "data.describe() #description of avg,mean, min and max value of dataset "
      ],
      "outputs": [
        {
          "output_type": "execute_result",
          "execution_count": 8,
          "data": {
            "text/html": "\n  <div id=\"df-27f3fd5d-5adf-458f-abbb-e9b2800d5adb\">\n    <div class=\"colab-df-container\">\n      <div>\n<style scoped>\n    .dataframe tbody tr th:only-of-type {\n        vertical-align: middle;\n    }\n\n    .dataframe tbody tr th {\n        vertical-align: top;\n    }\n\n    .dataframe thead th {\n        text-align: right;\n    }\n</style>\n<table border=\"1\" class=\"dataframe\">\n  <thead>\n    <tr style=\"text-align: right;\">\n      <th></th>\n      <th>bath</th>\n      <th>price</th>\n    </tr>\n  </thead>\n  <tbody>\n    <tr>\n      <th>count</th>\n      <td>13247.000000</td>\n      <td>13320.000000</td>\n    </tr>\n    <tr>\n      <th>mean</th>\n      <td>2.692610</td>\n      <td>112.565627</td>\n    </tr>\n    <tr>\n      <th>std</th>\n      <td>1.341458</td>\n      <td>148.971674</td>\n    </tr>\n    <tr>\n      <th>min</th>\n      <td>1.000000</td>\n      <td>8.000000</td>\n    </tr>\n    <tr>\n      <th>25%</th>\n      <td>2.000000</td>\n      <td>50.000000</td>\n    </tr>\n    <tr>\n      <th>50%</th>\n      <td>2.000000</td>\n      <td>72.000000</td>\n    </tr>\n    <tr>\n      <th>75%</th>\n      <td>3.000000</td>\n      <td>120.000000</td>\n    </tr>\n    <tr>\n      <th>max</th>\n      <td>40.000000</td>\n      <td>3600.000000</td>\n    </tr>\n  </tbody>\n</table>\n</div>\n      <button class=\"colab-df-convert\" onclick=\"convertToInteractive('df-27f3fd5d-5adf-458f-abbb-e9b2800d5adb')\"\n              title=\"Convert this dataframe to an interactive table.\"\n              style=\"display:none;\">\n        \n  <svg xmlns=\"http://www.w3.org/2000/svg\" height=\"24px\"viewBox=\"0 0 24 24\"\n       width=\"24px\">\n    <path d=\"M0 0h24v24H0V0z\" fill=\"none\"/>\n    <path d=\"M18.56 5.44l.94 2.06.94-2.06 2.06-.94-2.06-.94-.94-2.06-.94 2.06-2.06.94zm-11 1L8.5 8.5l.94-2.06 2.06-.94-2.06-.94L8.5 2.5l-.94 2.06-2.06.94zm10 10l.94 2.06.94-2.06 2.06-.94-2.06-.94-.94-2.06-.94 2.06-2.06.94z\"/><path d=\"M17.41 7.96l-1.37-1.37c-.4-.4-.92-.59-1.43-.59-.52 0-1.04.2-1.43.59L10.3 9.45l-7.72 7.72c-.78.78-.78 2.05 0 2.83L4 21.41c.39.39.9.59 1.41.59.51 0 1.02-.2 1.41-.59l7.78-7.78 2.81-2.81c.8-.78.8-2.07 0-2.86zM5.41 20L4 18.59l7.72-7.72 1.47 1.35L5.41 20z\"/>\n  </svg>\n      </button>\n      \n  <style>\n    .colab-df-container {\n      display:flex;\n      flex-wrap:wrap;\n      gap: 12px;\n    }\n\n    .colab-df-convert {\n      background-color: #E8F0FE;\n      border: none;\n      border-radius: 50%;\n      cursor: pointer;\n      display: none;\n      fill: #1967D2;\n      height: 32px;\n      padding: 0 0 0 0;\n      width: 32px;\n    }\n\n    .colab-df-convert:hover {\n      background-color: #E2EBFA;\n      box-shadow: 0px 1px 2px rgba(60, 64, 67, 0.3), 0px 1px 3px 1px rgba(60, 64, 67, 0.15);\n      fill: #174EA6;\n    }\n\n    [theme=dark] .colab-df-convert {\n      background-color: #3B4455;\n      fill: #D2E3FC;\n    }\n\n    [theme=dark] .colab-df-convert:hover {\n      background-color: #434B5C;\n      box-shadow: 0px 1px 3px 1px rgba(0, 0, 0, 0.15);\n      filter: drop-shadow(0px 1px 2px rgba(0, 0, 0, 0.3));\n      fill: #FFFFFF;\n    }\n  </style>\n\n      <script>\n        const buttonEl =\n          document.querySelector('#df-27f3fd5d-5adf-458f-abbb-e9b2800d5adb button.colab-df-convert');\n        buttonEl.style.display =\n          google.colab.kernel.accessAllowed ? 'block' : 'none';\n\n        async function convertToInteractive(key) {\n          const element = document.querySelector('#df-27f3fd5d-5adf-458f-abbb-e9b2800d5adb');\n          const dataTable =\n            await google.colab.kernel.invokeFunction('convertToInteractive',\n                                                     [key], {});\n          if (!dataTable) return;\n\n          const docLinkHtml = 'Like what you see? Visit the ' +\n            '<a target=\"_blank\" href=https://colab.research.google.com/notebooks/data_table.ipynb>data table notebook</a>'\n            + ' to learn more about interactive tables.';\n          element.innerHTML = '';\n          dataTable['output_type'] = 'display_data';\n          await google.colab.output.renderOutput(dataTable, element);\n          const docLink = document.createElement('div');\n          docLink.innerHTML = docLinkHtml;\n          element.appendChild(docLink);\n        }\n      </script>\n    </div>\n  </div>\n  ",
            "text/plain": "               bath         price\ncount  13247.000000  13320.000000\nmean       2.692610    112.565627\nstd        1.341458    148.971674\nmin        1.000000      8.000000\n25%        2.000000     50.000000\n50%        2.000000     72.000000\n75%        3.000000    120.000000\nmax       40.000000   3600.000000"
          },
          "metadata": {}
        }
      ],
      "execution_count": 8,
      "metadata": {
        "id": "wcQdC1zENiJe",
        "colab": {
          "base_uri": "https://localhost:8080/",
          "height": 300
        },
        "outputId": "71f3c8d2-6161-47a7-dd84-ce53b8bd9386"
      }
    },
    {
      "cell_type": "code",
      "source": [
        "data.info()"
      ],
      "outputs": [
        {
          "output_type": "stream",
          "name": "stdout",
          "text": "<class 'pandas.core.frame.DataFrame'>\nRangeIndex: 13320 entries, 0 to 13319\nData columns (total 5 columns):\n #   Column      Non-Null Count  Dtype  \n---  ------      --------------  -----  \n 0   location    13319 non-null  object \n 1   size        13304 non-null  object \n 2   total_sqft  13320 non-null  object \n 3   bath        13247 non-null  float64\n 4   price       13320 non-null  float64\ndtypes: float64(2), object(3)\nmemory usage: 520.4+ KB\n"
        }
      ],
      "execution_count": 9,
      "metadata": {
        "id": "wxhhR2WMNiHK",
        "colab": {
          "base_uri": "https://localhost:8080/"
        },
        "outputId": "a05ec7c9-3b42-4fb8-e8c4-1e4dfd7e1e88"
      }
    },
    {
      "cell_type": "code",
      "source": [
        "data['location'].value_counts()"
      ],
      "outputs": [
        {
          "output_type": "execute_result",
          "execution_count": 10,
          "data": {
            "text/plain": "Whitefield                                      540\nSarjapur  Road                                  399\nElectronic City                                 302\nKanakpura Road                                  273\nThanisandra                                     234\n                                               ... \n4 Bedroom Farm House in Bagalur                   1\nBTM Layout 1stage 9th Main                        1\n2 Bedroom Furnished Farm House in Kolar Road      1\nBinnamangala                                      1\nDouble Road                                       1\nName: location, Length: 1305, dtype: int64"
          },
          "metadata": {}
        }
      ],
      "execution_count": 10,
      "metadata": {
        "id": "RLKFfdMLNiEb",
        "colab": {
          "base_uri": "https://localhost:8080/"
        },
        "outputId": "75e0fa4a-9520-47b4-c7c3-662696a0f06a"
      }
    },
    {
      "cell_type": "code",
      "source": [
        "data['location']=data['location'].fillna('Sarjapur  Road')"
      ],
      "outputs": [],
      "execution_count": 11,
      "metadata": {
        "id": "E15jZkd-NiCE"
      }
    },
    {
      "cell_type": "code",
      "source": [
        "data['size'].value_counts()"
      ],
      "outputs": [
        {
          "output_type": "execute_result",
          "execution_count": 12,
          "data": {
            "text/plain": "2 BHK         5199\n3 BHK         4310\n4 Bedroom      826\n4 BHK          591\n3 Bedroom      547\n1 BHK          538\n2 Bedroom      329\n5 Bedroom      297\n6 Bedroom      191\n1 Bedroom      105\n8 Bedroom       84\n7 Bedroom       83\n5 BHK           59\n9 Bedroom       46\n6 BHK           30\n7 BHK           17\n1 RK            13\n10 Bedroom      12\n9 BHK            8\n8 BHK            5\n11 BHK           2\n10 BHK           2\n11 Bedroom       2\n27 BHK           1\n19 BHK           1\n16 BHK           1\n18 Bedroom       1\n43 Bedroom       1\n13 BHK           1\n14 BHK           1\n12 Bedroom       1\nName: size, dtype: int64"
          },
          "metadata": {}
        }
      ],
      "execution_count": 12,
      "metadata": {
        "id": "gJEWuZOzNh_h",
        "colab": {
          "base_uri": "https://localhost:8080/"
        },
        "outputId": "b9bd5493-69df-47a2-8093-aadd032316e4"
      }
    },
    {
      "cell_type": "code",
      "source": [
        "data['size']=data['size'].fillna('2 BHK')"
      ],
      "outputs": [],
      "execution_count": 13,
      "metadata": {
        "id": "eCRaW9BuNh82"
      }
    },
    {
      "cell_type": "code",
      "source": [
        "data.info()"
      ],
      "outputs": [
        {
          "output_type": "stream",
          "name": "stdout",
          "text": "<class 'pandas.core.frame.DataFrame'>\nRangeIndex: 13320 entries, 0 to 13319\nData columns (total 5 columns):\n #   Column      Non-Null Count  Dtype  \n---  ------      --------------  -----  \n 0   location    13320 non-null  object \n 1   size        13320 non-null  object \n 2   total_sqft  13320 non-null  object \n 3   bath        13247 non-null  float64\n 4   price       13320 non-null  float64\ndtypes: float64(2), object(3)\nmemory usage: 520.4+ KB\n"
        }
      ],
      "execution_count": 14,
      "metadata": {
        "id": "H3jMli77Tyde",
        "colab": {
          "base_uri": "https://localhost:8080/"
        },
        "outputId": "ab53099b-29b2-43c8-f43e-d2d08624ad00"
      }
    },
    {
      "cell_type": "code",
      "source": [
        "data['bath'].value_counts()"
      ],
      "outputs": [
        {
          "output_type": "execute_result",
          "execution_count": 15,
          "data": {
            "text/plain": "2.0     6908\n3.0     3286\n4.0     1226\n1.0      788\n5.0      524\n6.0      273\n7.0      102\n8.0       64\n9.0       43\n10.0      13\n12.0       7\n13.0       3\n11.0       3\n16.0       2\n27.0       1\n18.0       1\n40.0       1\n15.0       1\n14.0       1\nName: bath, dtype: int64"
          },
          "metadata": {}
        }
      ],
      "execution_count": 15,
      "metadata": {
        "id": "cS7RuqzATyaG",
        "colab": {
          "base_uri": "https://localhost:8080/"
        },
        "outputId": "9d874649-9119-4f92-e986-5b18cebf8af0"
      }
    },
    {
      "cell_type": "code",
      "source": [
        "data['bath']=data['bath'].fillna(data['bath'].median())"
      ],
      "outputs": [],
      "execution_count": 16,
      "metadata": {
        "id": "51h_aPsDTyX0"
      }
    },
    {
      "cell_type": "code",
      "source": [
        "data.info()   #to see non-null values"
      ],
      "outputs": [
        {
          "output_type": "stream",
          "name": "stdout",
          "text": "<class 'pandas.core.frame.DataFrame'>\nRangeIndex: 13320 entries, 0 to 13319\nData columns (total 5 columns):\n #   Column      Non-Null Count  Dtype  \n---  ------      --------------  -----  \n 0   location    13320 non-null  object \n 1   size        13320 non-null  object \n 2   total_sqft  13320 non-null  object \n 3   bath        13320 non-null  float64\n 4   price       13320 non-null  float64\ndtypes: float64(2), object(3)\nmemory usage: 520.4+ KB\n"
        }
      ],
      "execution_count": 17,
      "metadata": {
        "id": "n6I8Zp5zTyVW",
        "colab": {
          "base_uri": "https://localhost:8080/"
        },
        "outputId": "baaf6beb-98ff-4ba6-8c0a-bc873ee802d9"
      }
    },
    {
      "cell_type": "code",
      "source": [
        "data['bhk']=data['size'].str.split().str.get(0).astype(int)"
      ],
      "outputs": [],
      "execution_count": 18,
      "metadata": {
        "id": "Apg_NxonTyTC"
      }
    },
    {
      "cell_type": "code",
      "source": [
        "data[data.bhk>20]"
      ],
      "outputs": [
        {
          "output_type": "execute_result",
          "execution_count": 19,
          "data": {
            "text/html": "\n  <div id=\"df-9a7d360f-25d1-4688-9f8a-9f661b6068af\">\n    <div class=\"colab-df-container\">\n      <div>\n<style scoped>\n    .dataframe tbody tr th:only-of-type {\n        vertical-align: middle;\n    }\n\n    .dataframe tbody tr th {\n        vertical-align: top;\n    }\n\n    .dataframe thead th {\n        text-align: right;\n    }\n</style>\n<table border=\"1\" class=\"dataframe\">\n  <thead>\n    <tr style=\"text-align: right;\">\n      <th></th>\n      <th>location</th>\n      <th>size</th>\n      <th>total_sqft</th>\n      <th>bath</th>\n      <th>price</th>\n      <th>bhk</th>\n    </tr>\n  </thead>\n  <tbody>\n    <tr>\n      <th>1718</th>\n      <td>2Electronic City Phase II</td>\n      <td>27 BHK</td>\n      <td>8000</td>\n      <td>27.0</td>\n      <td>230.0</td>\n      <td>27</td>\n    </tr>\n    <tr>\n      <th>4684</th>\n      <td>Munnekollal</td>\n      <td>43 Bedroom</td>\n      <td>2400</td>\n      <td>40.0</td>\n      <td>660.0</td>\n      <td>43</td>\n    </tr>\n  </tbody>\n</table>\n</div>\n      <button class=\"colab-df-convert\" onclick=\"convertToInteractive('df-9a7d360f-25d1-4688-9f8a-9f661b6068af')\"\n              title=\"Convert this dataframe to an interactive table.\"\n              style=\"display:none;\">\n        \n  <svg xmlns=\"http://www.w3.org/2000/svg\" height=\"24px\"viewBox=\"0 0 24 24\"\n       width=\"24px\">\n    <path d=\"M0 0h24v24H0V0z\" fill=\"none\"/>\n    <path d=\"M18.56 5.44l.94 2.06.94-2.06 2.06-.94-2.06-.94-.94-2.06-.94 2.06-2.06.94zm-11 1L8.5 8.5l.94-2.06 2.06-.94-2.06-.94L8.5 2.5l-.94 2.06-2.06.94zm10 10l.94 2.06.94-2.06 2.06-.94-2.06-.94-.94-2.06-.94 2.06-2.06.94z\"/><path d=\"M17.41 7.96l-1.37-1.37c-.4-.4-.92-.59-1.43-.59-.52 0-1.04.2-1.43.59L10.3 9.45l-7.72 7.72c-.78.78-.78 2.05 0 2.83L4 21.41c.39.39.9.59 1.41.59.51 0 1.02-.2 1.41-.59l7.78-7.78 2.81-2.81c.8-.78.8-2.07 0-2.86zM5.41 20L4 18.59l7.72-7.72 1.47 1.35L5.41 20z\"/>\n  </svg>\n      </button>\n      \n  <style>\n    .colab-df-container {\n      display:flex;\n      flex-wrap:wrap;\n      gap: 12px;\n    }\n\n    .colab-df-convert {\n      background-color: #E8F0FE;\n      border: none;\n      border-radius: 50%;\n      cursor: pointer;\n      display: none;\n      fill: #1967D2;\n      height: 32px;\n      padding: 0 0 0 0;\n      width: 32px;\n    }\n\n    .colab-df-convert:hover {\n      background-color: #E2EBFA;\n      box-shadow: 0px 1px 2px rgba(60, 64, 67, 0.3), 0px 1px 3px 1px rgba(60, 64, 67, 0.15);\n      fill: #174EA6;\n    }\n\n    [theme=dark] .colab-df-convert {\n      background-color: #3B4455;\n      fill: #D2E3FC;\n    }\n\n    [theme=dark] .colab-df-convert:hover {\n      background-color: #434B5C;\n      box-shadow: 0px 1px 3px 1px rgba(0, 0, 0, 0.15);\n      filter: drop-shadow(0px 1px 2px rgba(0, 0, 0, 0.3));\n      fill: #FFFFFF;\n    }\n  </style>\n\n      <script>\n        const buttonEl =\n          document.querySelector('#df-9a7d360f-25d1-4688-9f8a-9f661b6068af button.colab-df-convert');\n        buttonEl.style.display =\n          google.colab.kernel.accessAllowed ? 'block' : 'none';\n\n        async function convertToInteractive(key) {\n          const element = document.querySelector('#df-9a7d360f-25d1-4688-9f8a-9f661b6068af');\n          const dataTable =\n            await google.colab.kernel.invokeFunction('convertToInteractive',\n                                                     [key], {});\n          if (!dataTable) return;\n\n          const docLinkHtml = 'Like what you see? Visit the ' +\n            '<a target=\"_blank\" href=https://colab.research.google.com/notebooks/data_table.ipynb>data table notebook</a>'\n            + ' to learn more about interactive tables.';\n          element.innerHTML = '';\n          dataTable['output_type'] = 'display_data';\n          await google.colab.output.renderOutput(dataTable, element);\n          const docLink = document.createElement('div');\n          docLink.innerHTML = docLinkHtml;\n          element.appendChild(docLink);\n        }\n      </script>\n    </div>\n  </div>\n  ",
            "text/plain": "                       location        size total_sqft  bath  price  bhk\n1718  2Electronic City Phase II      27 BHK       8000  27.0  230.0   27\n4684                Munnekollal  43 Bedroom       2400  40.0  660.0   43"
          },
          "metadata": {}
        }
      ],
      "execution_count": 19,
      "metadata": {
        "id": "uKn_ZPd-TyQn",
        "colab": {
          "base_uri": "https://localhost:8080/",
          "height": 112
        },
        "outputId": "fad0f7a5-d6c5-432b-eae5-67d653837b93"
      }
    },
    {
      "cell_type": "code",
      "source": [
        "data['total_sqft'].unique()"
      ],
      "outputs": [
        {
          "output_type": "execute_result",
          "execution_count": 20,
          "data": {
            "text/plain": "array(['1056', '2600', '1440', ..., '1133 - 1384', '774', '4689'],\n      dtype=object)"
          },
          "metadata": {}
        }
      ],
      "execution_count": 20,
      "metadata": {
        "id": "QXK5NbZq-9UL",
        "colab": {
          "base_uri": "https://localhost:8080/"
        },
        "outputId": "db4e779b-cfc9-46b0-b006-12fb67985010"
      }
    },
    {
      "cell_type": "code",
      "source": [
        "def convertRange(x):\n",
        "  temp=x.split('-')\n",
        "  if len(temp)==2:\n",
        "    return (float(temp[0])+float(temp[1]))/2\n",
        "  try:\n",
        "    return float(x)\n",
        "\n",
        "  except:\n",
        "    return None"
      ],
      "outputs": [],
      "execution_count": 21,
      "metadata": {
        "id": "mOhNvmp5-9O9"
      }
    },
    {
      "cell_type": "code",
      "source": [
        "data['total_sqft']=data['total_sqft'].apply(convertRange)"
      ],
      "outputs": [],
      "execution_count": 22,
      "metadata": {
        "id": "vSDNfdst_bAF"
      }
    },
    {
      "cell_type": "code",
      "source": [
        "data.tail()"
      ],
      "outputs": [
        {
          "output_type": "execute_result",
          "execution_count": 23,
          "data": {
            "text/html": "\n  <div id=\"df-b92e1435-1f1c-4555-b3a3-99adcae33d03\">\n    <div class=\"colab-df-container\">\n      <div>\n<style scoped>\n    .dataframe tbody tr th:only-of-type {\n        vertical-align: middle;\n    }\n\n    .dataframe tbody tr th {\n        vertical-align: top;\n    }\n\n    .dataframe thead th {\n        text-align: right;\n    }\n</style>\n<table border=\"1\" class=\"dataframe\">\n  <thead>\n    <tr style=\"text-align: right;\">\n      <th></th>\n      <th>location</th>\n      <th>size</th>\n      <th>total_sqft</th>\n      <th>bath</th>\n      <th>price</th>\n      <th>bhk</th>\n    </tr>\n  </thead>\n  <tbody>\n    <tr>\n      <th>13315</th>\n      <td>Whitefield</td>\n      <td>5 Bedroom</td>\n      <td>3453.0</td>\n      <td>4.0</td>\n      <td>231.0</td>\n      <td>5</td>\n    </tr>\n    <tr>\n      <th>13316</th>\n      <td>Richards Town</td>\n      <td>4 BHK</td>\n      <td>3600.0</td>\n      <td>5.0</td>\n      <td>400.0</td>\n      <td>4</td>\n    </tr>\n    <tr>\n      <th>13317</th>\n      <td>Raja Rajeshwari Nagar</td>\n      <td>2 BHK</td>\n      <td>1141.0</td>\n      <td>2.0</td>\n      <td>60.0</td>\n      <td>2</td>\n    </tr>\n    <tr>\n      <th>13318</th>\n      <td>Padmanabhanagar</td>\n      <td>4 BHK</td>\n      <td>4689.0</td>\n      <td>4.0</td>\n      <td>488.0</td>\n      <td>4</td>\n    </tr>\n    <tr>\n      <th>13319</th>\n      <td>Doddathoguru</td>\n      <td>1 BHK</td>\n      <td>550.0</td>\n      <td>1.0</td>\n      <td>17.0</td>\n      <td>1</td>\n    </tr>\n  </tbody>\n</table>\n</div>\n      <button class=\"colab-df-convert\" onclick=\"convertToInteractive('df-b92e1435-1f1c-4555-b3a3-99adcae33d03')\"\n              title=\"Convert this dataframe to an interactive table.\"\n              style=\"display:none;\">\n        \n  <svg xmlns=\"http://www.w3.org/2000/svg\" height=\"24px\"viewBox=\"0 0 24 24\"\n       width=\"24px\">\n    <path d=\"M0 0h24v24H0V0z\" fill=\"none\"/>\n    <path d=\"M18.56 5.44l.94 2.06.94-2.06 2.06-.94-2.06-.94-.94-2.06-.94 2.06-2.06.94zm-11 1L8.5 8.5l.94-2.06 2.06-.94-2.06-.94L8.5 2.5l-.94 2.06-2.06.94zm10 10l.94 2.06.94-2.06 2.06-.94-2.06-.94-.94-2.06-.94 2.06-2.06.94z\"/><path d=\"M17.41 7.96l-1.37-1.37c-.4-.4-.92-.59-1.43-.59-.52 0-1.04.2-1.43.59L10.3 9.45l-7.72 7.72c-.78.78-.78 2.05 0 2.83L4 21.41c.39.39.9.59 1.41.59.51 0 1.02-.2 1.41-.59l7.78-7.78 2.81-2.81c.8-.78.8-2.07 0-2.86zM5.41 20L4 18.59l7.72-7.72 1.47 1.35L5.41 20z\"/>\n  </svg>\n      </button>\n      \n  <style>\n    .colab-df-container {\n      display:flex;\n      flex-wrap:wrap;\n      gap: 12px;\n    }\n\n    .colab-df-convert {\n      background-color: #E8F0FE;\n      border: none;\n      border-radius: 50%;\n      cursor: pointer;\n      display: none;\n      fill: #1967D2;\n      height: 32px;\n      padding: 0 0 0 0;\n      width: 32px;\n    }\n\n    .colab-df-convert:hover {\n      background-color: #E2EBFA;\n      box-shadow: 0px 1px 2px rgba(60, 64, 67, 0.3), 0px 1px 3px 1px rgba(60, 64, 67, 0.15);\n      fill: #174EA6;\n    }\n\n    [theme=dark] .colab-df-convert {\n      background-color: #3B4455;\n      fill: #D2E3FC;\n    }\n\n    [theme=dark] .colab-df-convert:hover {\n      background-color: #434B5C;\n      box-shadow: 0px 1px 3px 1px rgba(0, 0, 0, 0.15);\n      filter: drop-shadow(0px 1px 2px rgba(0, 0, 0, 0.3));\n      fill: #FFFFFF;\n    }\n  </style>\n\n      <script>\n        const buttonEl =\n          document.querySelector('#df-b92e1435-1f1c-4555-b3a3-99adcae33d03 button.colab-df-convert');\n        buttonEl.style.display =\n          google.colab.kernel.accessAllowed ? 'block' : 'none';\n\n        async function convertToInteractive(key) {\n          const element = document.querySelector('#df-b92e1435-1f1c-4555-b3a3-99adcae33d03');\n          const dataTable =\n            await google.colab.kernel.invokeFunction('convertToInteractive',\n                                                     [key], {});\n          if (!dataTable) return;\n\n          const docLinkHtml = 'Like what you see? Visit the ' +\n            '<a target=\"_blank\" href=https://colab.research.google.com/notebooks/data_table.ipynb>data table notebook</a>'\n            + ' to learn more about interactive tables.';\n          element.innerHTML = '';\n          dataTable['output_type'] = 'display_data';\n          await google.colab.output.renderOutput(dataTable, element);\n          const docLink = document.createElement('div');\n          docLink.innerHTML = docLinkHtml;\n          element.appendChild(docLink);\n        }\n      </script>\n    </div>\n  </div>\n  ",
            "text/plain": "                    location       size  total_sqft  bath  price  bhk\n13315             Whitefield  5 Bedroom      3453.0   4.0  231.0    5\n13316          Richards Town      4 BHK      3600.0   5.0  400.0    4\n13317  Raja Rajeshwari Nagar      2 BHK      1141.0   2.0   60.0    2\n13318        Padmanabhanagar      4 BHK      4689.0   4.0  488.0    4\n13319           Doddathoguru      1 BHK       550.0   1.0   17.0    1"
          },
          "metadata": {}
        }
      ],
      "execution_count": 23,
      "metadata": {
        "id": "KkkZhlNm_a7P",
        "colab": {
          "base_uri": "https://localhost:8080/",
          "height": 206
        },
        "outputId": "c9d26329-12f5-437e-a23e-2a7fbda3bdc8"
      }
    },
    {
      "cell_type": "markdown",
      "source": [
        "# Price Per Square feet"
      ],
      "metadata": {
        "id": "3tYZcTwnAkyS"
      }
    },
    {
      "cell_type": "code",
      "source": [
        "data['price_per_sqft']=data['price']*100000 / data['total_sqft'] #Doing this for detection and removal of outliers"
      ],
      "outputs": [],
      "execution_count": 24,
      "metadata": {
        "id": "0reCFtMm_a4N"
      }
    },
    {
      "cell_type": "code",
      "source": [
        "data.describe()"
      ],
      "outputs": [
        {
          "output_type": "execute_result",
          "execution_count": 25,
          "data": {
            "text/html": "\n  <div id=\"df-70d907b2-e9ee-4450-9051-6198e580402d\">\n    <div class=\"colab-df-container\">\n      <div>\n<style scoped>\n    .dataframe tbody tr th:only-of-type {\n        vertical-align: middle;\n    }\n\n    .dataframe tbody tr th {\n        vertical-align: top;\n    }\n\n    .dataframe thead th {\n        text-align: right;\n    }\n</style>\n<table border=\"1\" class=\"dataframe\">\n  <thead>\n    <tr style=\"text-align: right;\">\n      <th></th>\n      <th>total_sqft</th>\n      <th>bath</th>\n      <th>price</th>\n      <th>bhk</th>\n      <th>price_per_sqft</th>\n    </tr>\n  </thead>\n  <tbody>\n    <tr>\n      <th>count</th>\n      <td>13274.000000</td>\n      <td>13320.000000</td>\n      <td>13320.000000</td>\n      <td>13320.000000</td>\n      <td>1.327400e+04</td>\n    </tr>\n    <tr>\n      <th>mean</th>\n      <td>1559.626694</td>\n      <td>2.688814</td>\n      <td>112.565627</td>\n      <td>2.802778</td>\n      <td>7.907501e+03</td>\n    </tr>\n    <tr>\n      <th>std</th>\n      <td>1238.405258</td>\n      <td>1.338754</td>\n      <td>148.971674</td>\n      <td>1.294496</td>\n      <td>1.064296e+05</td>\n    </tr>\n    <tr>\n      <th>min</th>\n      <td>1.000000</td>\n      <td>1.000000</td>\n      <td>8.000000</td>\n      <td>1.000000</td>\n      <td>2.678298e+02</td>\n    </tr>\n    <tr>\n      <th>25%</th>\n      <td>1100.000000</td>\n      <td>2.000000</td>\n      <td>50.000000</td>\n      <td>2.000000</td>\n      <td>4.266865e+03</td>\n    </tr>\n    <tr>\n      <th>50%</th>\n      <td>1276.000000</td>\n      <td>2.000000</td>\n      <td>72.000000</td>\n      <td>3.000000</td>\n      <td>5.434306e+03</td>\n    </tr>\n    <tr>\n      <th>75%</th>\n      <td>1680.000000</td>\n      <td>3.000000</td>\n      <td>120.000000</td>\n      <td>3.000000</td>\n      <td>7.311746e+03</td>\n    </tr>\n    <tr>\n      <th>max</th>\n      <td>52272.000000</td>\n      <td>40.000000</td>\n      <td>3600.000000</td>\n      <td>43.000000</td>\n      <td>1.200000e+07</td>\n    </tr>\n  </tbody>\n</table>\n</div>\n      <button class=\"colab-df-convert\" onclick=\"convertToInteractive('df-70d907b2-e9ee-4450-9051-6198e580402d')\"\n              title=\"Convert this dataframe to an interactive table.\"\n              style=\"display:none;\">\n        \n  <svg xmlns=\"http://www.w3.org/2000/svg\" height=\"24px\"viewBox=\"0 0 24 24\"\n       width=\"24px\">\n    <path d=\"M0 0h24v24H0V0z\" fill=\"none\"/>\n    <path d=\"M18.56 5.44l.94 2.06.94-2.06 2.06-.94-2.06-.94-.94-2.06-.94 2.06-2.06.94zm-11 1L8.5 8.5l.94-2.06 2.06-.94-2.06-.94L8.5 2.5l-.94 2.06-2.06.94zm10 10l.94 2.06.94-2.06 2.06-.94-2.06-.94-.94-2.06-.94 2.06-2.06.94z\"/><path d=\"M17.41 7.96l-1.37-1.37c-.4-.4-.92-.59-1.43-.59-.52 0-1.04.2-1.43.59L10.3 9.45l-7.72 7.72c-.78.78-.78 2.05 0 2.83L4 21.41c.39.39.9.59 1.41.59.51 0 1.02-.2 1.41-.59l7.78-7.78 2.81-2.81c.8-.78.8-2.07 0-2.86zM5.41 20L4 18.59l7.72-7.72 1.47 1.35L5.41 20z\"/>\n  </svg>\n      </button>\n      \n  <style>\n    .colab-df-container {\n      display:flex;\n      flex-wrap:wrap;\n      gap: 12px;\n    }\n\n    .colab-df-convert {\n      background-color: #E8F0FE;\n      border: none;\n      border-radius: 50%;\n      cursor: pointer;\n      display: none;\n      fill: #1967D2;\n      height: 32px;\n      padding: 0 0 0 0;\n      width: 32px;\n    }\n\n    .colab-df-convert:hover {\n      background-color: #E2EBFA;\n      box-shadow: 0px 1px 2px rgba(60, 64, 67, 0.3), 0px 1px 3px 1px rgba(60, 64, 67, 0.15);\n      fill: #174EA6;\n    }\n\n    [theme=dark] .colab-df-convert {\n      background-color: #3B4455;\n      fill: #D2E3FC;\n    }\n\n    [theme=dark] .colab-df-convert:hover {\n      background-color: #434B5C;\n      box-shadow: 0px 1px 3px 1px rgba(0, 0, 0, 0.15);\n      filter: drop-shadow(0px 1px 2px rgba(0, 0, 0, 0.3));\n      fill: #FFFFFF;\n    }\n  </style>\n\n      <script>\n        const buttonEl =\n          document.querySelector('#df-70d907b2-e9ee-4450-9051-6198e580402d button.colab-df-convert');\n        buttonEl.style.display =\n          google.colab.kernel.accessAllowed ? 'block' : 'none';\n\n        async function convertToInteractive(key) {\n          const element = document.querySelector('#df-70d907b2-e9ee-4450-9051-6198e580402d');\n          const dataTable =\n            await google.colab.kernel.invokeFunction('convertToInteractive',\n                                                     [key], {});\n          if (!dataTable) return;\n\n          const docLinkHtml = 'Like what you see? Visit the ' +\n            '<a target=\"_blank\" href=https://colab.research.google.com/notebooks/data_table.ipynb>data table notebook</a>'\n            + ' to learn more about interactive tables.';\n          element.innerHTML = '';\n          dataTable['output_type'] = 'display_data';\n          await google.colab.output.renderOutput(dataTable, element);\n          const docLink = document.createElement('div');\n          docLink.innerHTML = docLinkHtml;\n          element.appendChild(docLink);\n        }\n      </script>\n    </div>\n  </div>\n  ",
            "text/plain": "         total_sqft          bath         price           bhk  price_per_sqft\ncount  13274.000000  13320.000000  13320.000000  13320.000000    1.327400e+04\nmean    1559.626694      2.688814    112.565627      2.802778    7.907501e+03\nstd     1238.405258      1.338754    148.971674      1.294496    1.064296e+05\nmin        1.000000      1.000000      8.000000      1.000000    2.678298e+02\n25%     1100.000000      2.000000     50.000000      2.000000    4.266865e+03\n50%     1276.000000      2.000000     72.000000      3.000000    5.434306e+03\n75%     1680.000000      3.000000    120.000000      3.000000    7.311746e+03\nmax    52272.000000     40.000000   3600.000000     43.000000    1.200000e+07"
          },
          "metadata": {}
        }
      ],
      "execution_count": 25,
      "metadata": {
        "id": "yLif6fQl_a1S",
        "colab": {
          "base_uri": "https://localhost:8080/",
          "height": 300
        },
        "outputId": "8af206c9-f33d-4f0e-9cfa-43ef80745b27"
      }
    },
    {
      "cell_type": "code",
      "source": [
        "data['location'].value_counts()"
      ],
      "outputs": [
        {
          "output_type": "execute_result",
          "execution_count": 26,
          "data": {
            "text/plain": "Whitefield                                      540\nSarjapur  Road                                  400\nElectronic City                                 302\nKanakpura Road                                  273\nThanisandra                                     234\n                                               ... \n4 Bedroom Farm House in Bagalur                   1\nBTM Layout 1stage 9th Main                        1\n2 Bedroom Furnished Farm House in Kolar Road      1\nBinnamangala                                      1\nDouble Road                                       1\nName: location, Length: 1305, dtype: int64"
          },
          "metadata": {}
        }
      ],
      "execution_count": 26,
      "metadata": {
        "id": "73CuSq8D_ayi",
        "colab": {
          "base_uri": "https://localhost:8080/"
        },
        "outputId": "3e012f54-b25d-4713-8c89-6ad0dce0c02d"
      }
    },
    {
      "cell_type": "code",
      "source": [
        "data['location']=data['location'].apply(lambda x: x.strip())\n",
        "location_count=data['location'].value_counts()"
      ],
      "outputs": [],
      "execution_count": 27,
      "metadata": {
        "id": "EFkclnLCDsFe"
      }
    },
    {
      "cell_type": "code",
      "source": [
        "data['location'].value_counts()"
      ],
      "outputs": [
        {
          "output_type": "execute_result",
          "execution_count": 28,
          "data": {
            "text/plain": "Whitefield         541\nSarjapur  Road     400\nElectronic City    304\nKanakpura Road     273\nThanisandra        237\n                  ... \nGoraguntepalya       1\nRahmath Nagar        1\nPulikeshi Nagar      1\nDUO Layout           1\nDouble Road          1\nName: location, Length: 1294, dtype: int64"
          },
          "metadata": {}
        }
      ],
      "execution_count": 28,
      "metadata": {
        "id": "atViUknlDsCG",
        "colab": {
          "base_uri": "https://localhost:8080/"
        },
        "outputId": "1ddab2f8-08da-4c58-9637-42bcb5013b44"
      }
    },
    {
      "cell_type": "code",
      "source": [
        "location_count_less_10=location_count[location_count<=10]\n",
        "location_count_less_10"
      ],
      "outputs": [
        {
          "output_type": "execute_result",
          "execution_count": 29,
          "data": {
            "text/plain": "Ganga Nagar             10\nNagadevanahalli         10\nGunjur Palya            10\nBTM 1st Stage           10\nNagappa Reddy Layout    10\n                        ..\nGoraguntepalya           1\nRahmath Nagar            1\nPulikeshi Nagar          1\nDUO Layout               1\nDouble Road              1\nName: location, Length: 1053, dtype: int64"
          },
          "metadata": {}
        }
      ],
      "execution_count": 29,
      "metadata": {
        "id": "zABDSUMPDr-Y",
        "colab": {
          "base_uri": "https://localhost:8080/"
        },
        "outputId": "d2d83ccb-ae65-4ee5-8eb4-8ed2325450b4"
      }
    },
    {
      "cell_type": "code",
      "source": [
        "data['location']=data['location'].apply(lambda x: 'other' if x in location_count_less_10 else x)"
      ],
      "outputs": [],
      "execution_count": 30,
      "metadata": {
        "id": "8cTbKMa9Dr6C"
      }
    },
    {
      "cell_type": "code",
      "source": [
        "data['location'].value_counts()"
      ],
      "outputs": [
        {
          "output_type": "execute_result",
          "execution_count": 31,
          "data": {
            "text/plain": "other                        2885\nWhitefield                    541\nSarjapur  Road                400\nElectronic City               304\nKanakpura Road                273\n                             ... \nLB Shastri Nagar               11\n2nd Phase Judicial Layout      11\nBanjara Layout                 11\nNarayanapura                   11\nKodigehalli                    11\nName: location, Length: 242, dtype: int64"
          },
          "metadata": {}
        }
      ],
      "execution_count": 31,
      "metadata": {
        "id": "JO_A31KjExkJ",
        "colab": {
          "base_uri": "https://localhost:8080/"
        },
        "outputId": "7d305b40-441a-4f1e-cf81-7c4ec622307e"
      }
    },
    {
      "cell_type": "markdown",
      "source": [
        "# Outliers Detection and Removal"
      ],
      "metadata": {
        "id": "yRfEBQqOE9_4"
      }
    },
    {
      "cell_type": "code",
      "source": [
        "(data['total_sqft']/data['bhk']).describe()"
      ],
      "outputs": [
        {
          "output_type": "execute_result",
          "execution_count": 32,
          "data": {
            "text/plain": "count    13274.000000\nmean       575.074878\nstd        388.205175\nmin          0.250000\n25%        473.333333\n50%        552.500000\n75%        625.000000\nmax      26136.000000\ndtype: float64"
          },
          "metadata": {}
        }
      ],
      "execution_count": 32,
      "metadata": {
        "id": "Gn3LsHwPExh7",
        "colab": {
          "base_uri": "https://localhost:8080/"
        },
        "outputId": "902b0183-c001-4efa-c68c-b284dd60f866"
      }
    },
    {
      "cell_type": "code",
      "source": [
        "data=data[((data['total_sqft']/data['bhk'])>=300)]\n",
        "data.describe()"
      ],
      "outputs": [
        {
          "output_type": "execute_result",
          "execution_count": 33,
          "data": {
            "text/html": "\n  <div id=\"df-cc7c4a79-927c-4ddd-97c6-96a920e6e908\">\n    <div class=\"colab-df-container\">\n      <div>\n<style scoped>\n    .dataframe tbody tr th:only-of-type {\n        vertical-align: middle;\n    }\n\n    .dataframe tbody tr th {\n        vertical-align: top;\n    }\n\n    .dataframe thead th {\n        text-align: right;\n    }\n</style>\n<table border=\"1\" class=\"dataframe\">\n  <thead>\n    <tr style=\"text-align: right;\">\n      <th></th>\n      <th>total_sqft</th>\n      <th>bath</th>\n      <th>price</th>\n      <th>bhk</th>\n      <th>price_per_sqft</th>\n    </tr>\n  </thead>\n  <tbody>\n    <tr>\n      <th>count</th>\n      <td>12530.000000</td>\n      <td>12530.000000</td>\n      <td>12530.000000</td>\n      <td>12530.000000</td>\n      <td>12530.000000</td>\n    </tr>\n    <tr>\n      <th>mean</th>\n      <td>1594.564544</td>\n      <td>2.559537</td>\n      <td>111.382401</td>\n      <td>2.650838</td>\n      <td>6303.979357</td>\n    </tr>\n    <tr>\n      <th>std</th>\n      <td>1261.271296</td>\n      <td>1.077938</td>\n      <td>152.077329</td>\n      <td>0.976678</td>\n      <td>4162.237981</td>\n    </tr>\n    <tr>\n      <th>min</th>\n      <td>300.000000</td>\n      <td>1.000000</td>\n      <td>8.440000</td>\n      <td>1.000000</td>\n      <td>267.829813</td>\n    </tr>\n    <tr>\n      <th>25%</th>\n      <td>1116.000000</td>\n      <td>2.000000</td>\n      <td>49.000000</td>\n      <td>2.000000</td>\n      <td>4210.526316</td>\n    </tr>\n    <tr>\n      <th>50%</th>\n      <td>1300.000000</td>\n      <td>2.000000</td>\n      <td>70.000000</td>\n      <td>3.000000</td>\n      <td>5294.117647</td>\n    </tr>\n    <tr>\n      <th>75%</th>\n      <td>1700.000000</td>\n      <td>3.000000</td>\n      <td>115.000000</td>\n      <td>3.000000</td>\n      <td>6916.666667</td>\n    </tr>\n    <tr>\n      <th>max</th>\n      <td>52272.000000</td>\n      <td>16.000000</td>\n      <td>3600.000000</td>\n      <td>16.000000</td>\n      <td>176470.588235</td>\n    </tr>\n  </tbody>\n</table>\n</div>\n      <button class=\"colab-df-convert\" onclick=\"convertToInteractive('df-cc7c4a79-927c-4ddd-97c6-96a920e6e908')\"\n              title=\"Convert this dataframe to an interactive table.\"\n              style=\"display:none;\">\n        \n  <svg xmlns=\"http://www.w3.org/2000/svg\" height=\"24px\"viewBox=\"0 0 24 24\"\n       width=\"24px\">\n    <path d=\"M0 0h24v24H0V0z\" fill=\"none\"/>\n    <path d=\"M18.56 5.44l.94 2.06.94-2.06 2.06-.94-2.06-.94-.94-2.06-.94 2.06-2.06.94zm-11 1L8.5 8.5l.94-2.06 2.06-.94-2.06-.94L8.5 2.5l-.94 2.06-2.06.94zm10 10l.94 2.06.94-2.06 2.06-.94-2.06-.94-.94-2.06-.94 2.06-2.06.94z\"/><path d=\"M17.41 7.96l-1.37-1.37c-.4-.4-.92-.59-1.43-.59-.52 0-1.04.2-1.43.59L10.3 9.45l-7.72 7.72c-.78.78-.78 2.05 0 2.83L4 21.41c.39.39.9.59 1.41.59.51 0 1.02-.2 1.41-.59l7.78-7.78 2.81-2.81c.8-.78.8-2.07 0-2.86zM5.41 20L4 18.59l7.72-7.72 1.47 1.35L5.41 20z\"/>\n  </svg>\n      </button>\n      \n  <style>\n    .colab-df-container {\n      display:flex;\n      flex-wrap:wrap;\n      gap: 12px;\n    }\n\n    .colab-df-convert {\n      background-color: #E8F0FE;\n      border: none;\n      border-radius: 50%;\n      cursor: pointer;\n      display: none;\n      fill: #1967D2;\n      height: 32px;\n      padding: 0 0 0 0;\n      width: 32px;\n    }\n\n    .colab-df-convert:hover {\n      background-color: #E2EBFA;\n      box-shadow: 0px 1px 2px rgba(60, 64, 67, 0.3), 0px 1px 3px 1px rgba(60, 64, 67, 0.15);\n      fill: #174EA6;\n    }\n\n    [theme=dark] .colab-df-convert {\n      background-color: #3B4455;\n      fill: #D2E3FC;\n    }\n\n    [theme=dark] .colab-df-convert:hover {\n      background-color: #434B5C;\n      box-shadow: 0px 1px 3px 1px rgba(0, 0, 0, 0.15);\n      filter: drop-shadow(0px 1px 2px rgba(0, 0, 0, 0.3));\n      fill: #FFFFFF;\n    }\n  </style>\n\n      <script>\n        const buttonEl =\n          document.querySelector('#df-cc7c4a79-927c-4ddd-97c6-96a920e6e908 button.colab-df-convert');\n        buttonEl.style.display =\n          google.colab.kernel.accessAllowed ? 'block' : 'none';\n\n        async function convertToInteractive(key) {\n          const element = document.querySelector('#df-cc7c4a79-927c-4ddd-97c6-96a920e6e908');\n          const dataTable =\n            await google.colab.kernel.invokeFunction('convertToInteractive',\n                                                     [key], {});\n          if (!dataTable) return;\n\n          const docLinkHtml = 'Like what you see? Visit the ' +\n            '<a target=\"_blank\" href=https://colab.research.google.com/notebooks/data_table.ipynb>data table notebook</a>'\n            + ' to learn more about interactive tables.';\n          element.innerHTML = '';\n          dataTable['output_type'] = 'display_data';\n          await google.colab.output.renderOutput(dataTable, element);\n          const docLink = document.createElement('div');\n          docLink.innerHTML = docLinkHtml;\n          element.appendChild(docLink);\n        }\n      </script>\n    </div>\n  </div>\n  ",
            "text/plain": "         total_sqft          bath         price           bhk  price_per_sqft\ncount  12530.000000  12530.000000  12530.000000  12530.000000    12530.000000\nmean    1594.564544      2.559537    111.382401      2.650838     6303.979357\nstd     1261.271296      1.077938    152.077329      0.976678     4162.237981\nmin      300.000000      1.000000      8.440000      1.000000      267.829813\n25%     1116.000000      2.000000     49.000000      2.000000     4210.526316\n50%     1300.000000      2.000000     70.000000      3.000000     5294.117647\n75%     1700.000000      3.000000    115.000000      3.000000     6916.666667\nmax    52272.000000     16.000000   3600.000000     16.000000   176470.588235"
          },
          "metadata": {}
        }
      ],
      "execution_count": 33,
      "metadata": {
        "id": "BQR7J3aNExfa",
        "colab": {
          "base_uri": "https://localhost:8080/",
          "height": 300
        },
        "outputId": "46ada71e-1450-43da-b9dc-a2767de2cd2c"
      }
    },
    {
      "cell_type": "code",
      "source": [
        "data.shape"
      ],
      "outputs": [
        {
          "output_type": "execute_result",
          "execution_count": 34,
          "data": {
            "text/plain": "(12530, 7)"
          },
          "metadata": {}
        }
      ],
      "execution_count": 34,
      "metadata": {
        "id": "XtjhtcaqExan",
        "colab": {
          "base_uri": "https://localhost:8080/"
        },
        "outputId": "bebf208c-916c-4baa-ee5c-9a78cdf7c4ee"
      }
    },
    {
      "cell_type": "code",
      "source": [
        "data.price_per_sqft.describe()"
      ],
      "outputs": [
        {
          "output_type": "execute_result",
          "execution_count": 35,
          "data": {
            "text/plain": "count     12530.000000\nmean       6303.979357\nstd        4162.237981\nmin         267.829813\n25%        4210.526316\n50%        5294.117647\n75%        6916.666667\nmax      176470.588235\nName: price_per_sqft, dtype: float64"
          },
          "metadata": {}
        }
      ],
      "execution_count": 35,
      "metadata": {
        "id": "76BKrr-DGdvA",
        "colab": {
          "base_uri": "https://localhost:8080/"
        },
        "outputId": "8c46e228-a1fa-476d-cf72-b939ca34eed7"
      }
    },
    {
      "cell_type": "code",
      "source": [
        "def remove_outliers_sqft(df):\n",
        "  df_output=pd.DataFrame()\n",
        "  for key,subdf in df.groupby('location'):\n",
        "    m=np.mean(subdf.price_per_sqft)\n",
        "    st=np.std(subdf.price_per_sqft)\n",
        "    gen_df=subdf[(subdf.price_per_sqft>(m-st)) & (subdf.price_per_sqft<=(m+st))]\n",
        "    df_output=pd.concat([df_output,gen_df],ignore_index=True)\n",
        "  return df_output\n",
        "data=remove_outliers_sqft(data)\n",
        "data.describe()"
      ],
      "outputs": [
        {
          "output_type": "execute_result",
          "execution_count": 36,
          "data": {
            "text/html": "\n  <div id=\"df-b65ad7f8-97f2-4827-970d-9cfae412597a\">\n    <div class=\"colab-df-container\">\n      <div>\n<style scoped>\n    .dataframe tbody tr th:only-of-type {\n        vertical-align: middle;\n    }\n\n    .dataframe tbody tr th {\n        vertical-align: top;\n    }\n\n    .dataframe thead th {\n        text-align: right;\n    }\n</style>\n<table border=\"1\" class=\"dataframe\">\n  <thead>\n    <tr style=\"text-align: right;\">\n      <th></th>\n      <th>total_sqft</th>\n      <th>bath</th>\n      <th>price</th>\n      <th>bhk</th>\n      <th>price_per_sqft</th>\n    </tr>\n  </thead>\n  <tbody>\n    <tr>\n      <th>count</th>\n      <td>10301.000000</td>\n      <td>10301.000000</td>\n      <td>10301.000000</td>\n      <td>10301.000000</td>\n      <td>10301.000000</td>\n    </tr>\n    <tr>\n      <th>mean</th>\n      <td>1508.440608</td>\n      <td>2.471702</td>\n      <td>91.286372</td>\n      <td>2.574896</td>\n      <td>5659.062876</td>\n    </tr>\n    <tr>\n      <th>std</th>\n      <td>880.694214</td>\n      <td>0.979449</td>\n      <td>86.342786</td>\n      <td>0.897649</td>\n      <td>2265.774749</td>\n    </tr>\n    <tr>\n      <th>min</th>\n      <td>300.000000</td>\n      <td>1.000000</td>\n      <td>10.000000</td>\n      <td>1.000000</td>\n      <td>1250.000000</td>\n    </tr>\n    <tr>\n      <th>25%</th>\n      <td>1110.000000</td>\n      <td>2.000000</td>\n      <td>49.000000</td>\n      <td>2.000000</td>\n      <td>4244.897959</td>\n    </tr>\n    <tr>\n      <th>50%</th>\n      <td>1286.000000</td>\n      <td>2.000000</td>\n      <td>67.000000</td>\n      <td>2.000000</td>\n      <td>5175.600739</td>\n    </tr>\n    <tr>\n      <th>75%</th>\n      <td>1650.000000</td>\n      <td>3.000000</td>\n      <td>100.000000</td>\n      <td>3.000000</td>\n      <td>6428.571429</td>\n    </tr>\n    <tr>\n      <th>max</th>\n      <td>30400.000000</td>\n      <td>16.000000</td>\n      <td>2200.000000</td>\n      <td>16.000000</td>\n      <td>24509.803922</td>\n    </tr>\n  </tbody>\n</table>\n</div>\n      <button class=\"colab-df-convert\" onclick=\"convertToInteractive('df-b65ad7f8-97f2-4827-970d-9cfae412597a')\"\n              title=\"Convert this dataframe to an interactive table.\"\n              style=\"display:none;\">\n        \n  <svg xmlns=\"http://www.w3.org/2000/svg\" height=\"24px\"viewBox=\"0 0 24 24\"\n       width=\"24px\">\n    <path d=\"M0 0h24v24H0V0z\" fill=\"none\"/>\n    <path d=\"M18.56 5.44l.94 2.06.94-2.06 2.06-.94-2.06-.94-.94-2.06-.94 2.06-2.06.94zm-11 1L8.5 8.5l.94-2.06 2.06-.94-2.06-.94L8.5 2.5l-.94 2.06-2.06.94zm10 10l.94 2.06.94-2.06 2.06-.94-2.06-.94-.94-2.06-.94 2.06-2.06.94z\"/><path d=\"M17.41 7.96l-1.37-1.37c-.4-.4-.92-.59-1.43-.59-.52 0-1.04.2-1.43.59L10.3 9.45l-7.72 7.72c-.78.78-.78 2.05 0 2.83L4 21.41c.39.39.9.59 1.41.59.51 0 1.02-.2 1.41-.59l7.78-7.78 2.81-2.81c.8-.78.8-2.07 0-2.86zM5.41 20L4 18.59l7.72-7.72 1.47 1.35L5.41 20z\"/>\n  </svg>\n      </button>\n      \n  <style>\n    .colab-df-container {\n      display:flex;\n      flex-wrap:wrap;\n      gap: 12px;\n    }\n\n    .colab-df-convert {\n      background-color: #E8F0FE;\n      border: none;\n      border-radius: 50%;\n      cursor: pointer;\n      display: none;\n      fill: #1967D2;\n      height: 32px;\n      padding: 0 0 0 0;\n      width: 32px;\n    }\n\n    .colab-df-convert:hover {\n      background-color: #E2EBFA;\n      box-shadow: 0px 1px 2px rgba(60, 64, 67, 0.3), 0px 1px 3px 1px rgba(60, 64, 67, 0.15);\n      fill: #174EA6;\n    }\n\n    [theme=dark] .colab-df-convert {\n      background-color: #3B4455;\n      fill: #D2E3FC;\n    }\n\n    [theme=dark] .colab-df-convert:hover {\n      background-color: #434B5C;\n      box-shadow: 0px 1px 3px 1px rgba(0, 0, 0, 0.15);\n      filter: drop-shadow(0px 1px 2px rgba(0, 0, 0, 0.3));\n      fill: #FFFFFF;\n    }\n  </style>\n\n      <script>\n        const buttonEl =\n          document.querySelector('#df-b65ad7f8-97f2-4827-970d-9cfae412597a button.colab-df-convert');\n        buttonEl.style.display =\n          google.colab.kernel.accessAllowed ? 'block' : 'none';\n\n        async function convertToInteractive(key) {\n          const element = document.querySelector('#df-b65ad7f8-97f2-4827-970d-9cfae412597a');\n          const dataTable =\n            await google.colab.kernel.invokeFunction('convertToInteractive',\n                                                     [key], {});\n          if (!dataTable) return;\n\n          const docLinkHtml = 'Like what you see? Visit the ' +\n            '<a target=\"_blank\" href=https://colab.research.google.com/notebooks/data_table.ipynb>data table notebook</a>'\n            + ' to learn more about interactive tables.';\n          element.innerHTML = '';\n          dataTable['output_type'] = 'display_data';\n          await google.colab.output.renderOutput(dataTable, element);\n          const docLink = document.createElement('div');\n          docLink.innerHTML = docLinkHtml;\n          element.appendChild(docLink);\n        }\n      </script>\n    </div>\n  </div>\n  ",
            "text/plain": "         total_sqft          bath         price           bhk  price_per_sqft\ncount  10301.000000  10301.000000  10301.000000  10301.000000    10301.000000\nmean    1508.440608      2.471702     91.286372      2.574896     5659.062876\nstd      880.694214      0.979449     86.342786      0.897649     2265.774749\nmin      300.000000      1.000000     10.000000      1.000000     1250.000000\n25%     1110.000000      2.000000     49.000000      2.000000     4244.897959\n50%     1286.000000      2.000000     67.000000      2.000000     5175.600739\n75%     1650.000000      3.000000    100.000000      3.000000     6428.571429\nmax    30400.000000     16.000000   2200.000000     16.000000    24509.803922"
          },
          "metadata": {}
        }
      ],
      "execution_count": 36,
      "metadata": {
        "id": "gY2aFcnDGdr0",
        "colab": {
          "base_uri": "https://localhost:8080/",
          "height": 300
        },
        "outputId": "cc7ce118-eadc-45e9-dab8-a618be3a66e4"
      }
    },
    {
      "cell_type": "code",
      "source": [
        "def bhk_outliers_remover(df):\n",
        "  exclude_indices=np.array([])\n",
        "  for location ,location_df in df.groupby('location'):\n",
        "    bhk_stats={}\n",
        "    for bhk,bhk_df in location_df.groupby('bhk'):\n",
        "      bhk_stats[bhk]={\n",
        "          'mean': np.mean(bhk_df.price_per_sqft) ,\n",
        "          'std': np.std(bhk_df.price_per_sqft),\n",
        "          'count': bhk_df.shape[0]\n",
        "      }\n",
        "      \n",
        "    for bhk,bhk_df in location_df.groupby('bhk'):\n",
        "      stats=bhk_stats.get(bhk-1)\n",
        "      if stats and stats['count']>5:\n",
        "        exclude_indices=np.append(exclude_indices, bhk_df[bhk_df.price_per_sqft<(stats['mean'])].index.values)\n",
        "  return df.drop(exclude_indices,axis='index')\n"
      ],
      "outputs": [],
      "execution_count": 37,
      "metadata": {
        "id": "dmL3zUtPGdnB"
      }
    },
    {
      "cell_type": "code",
      "source": [
        "data= bhk_outliers_remover(data)"
      ],
      "outputs": [],
      "execution_count": 38,
      "metadata": {
        "id": "TmmFv0--HiQy"
      }
    },
    {
      "cell_type": "code",
      "source": [
        "data.shape"
      ],
      "outputs": [
        {
          "output_type": "execute_result",
          "execution_count": 39,
          "data": {
            "text/plain": "(7360, 7)"
          },
          "metadata": {}
        }
      ],
      "execution_count": 39,
      "metadata": {
        "id": "Vx4eXTuTHj3A",
        "colab": {
          "base_uri": "https://localhost:8080/"
        },
        "outputId": "91ed4955-1d2c-4052-90eb-972e888aeb71"
      }
    },
    {
      "cell_type": "code",
      "source": [
        "data"
      ],
      "outputs": [
        {
          "output_type": "execute_result",
          "execution_count": 40,
          "data": {
            "text/html": "\n  <div id=\"df-61b83bef-c27c-4cbc-98c1-4254cfc71cc7\">\n    <div class=\"colab-df-container\">\n      <div>\n<style scoped>\n    .dataframe tbody tr th:only-of-type {\n        vertical-align: middle;\n    }\n\n    .dataframe tbody tr th {\n        vertical-align: top;\n    }\n\n    .dataframe thead th {\n        text-align: right;\n    }\n</style>\n<table border=\"1\" class=\"dataframe\">\n  <thead>\n    <tr style=\"text-align: right;\">\n      <th></th>\n      <th>location</th>\n      <th>size</th>\n      <th>total_sqft</th>\n      <th>bath</th>\n      <th>price</th>\n      <th>bhk</th>\n      <th>price_per_sqft</th>\n    </tr>\n  </thead>\n  <tbody>\n    <tr>\n      <th>0</th>\n      <td>1st Block Jayanagar</td>\n      <td>4 BHK</td>\n      <td>2850.0</td>\n      <td>4.0</td>\n      <td>428.0</td>\n      <td>4</td>\n      <td>15017.543860</td>\n    </tr>\n    <tr>\n      <th>1</th>\n      <td>1st Block Jayanagar</td>\n      <td>3 BHK</td>\n      <td>1630.0</td>\n      <td>3.0</td>\n      <td>194.0</td>\n      <td>3</td>\n      <td>11901.840491</td>\n    </tr>\n    <tr>\n      <th>2</th>\n      <td>1st Block Jayanagar</td>\n      <td>3 BHK</td>\n      <td>1875.0</td>\n      <td>2.0</td>\n      <td>235.0</td>\n      <td>3</td>\n      <td>12533.333333</td>\n    </tr>\n    <tr>\n      <th>3</th>\n      <td>1st Block Jayanagar</td>\n      <td>3 BHK</td>\n      <td>1200.0</td>\n      <td>2.0</td>\n      <td>130.0</td>\n      <td>3</td>\n      <td>10833.333333</td>\n    </tr>\n    <tr>\n      <th>4</th>\n      <td>1st Block Jayanagar</td>\n      <td>2 BHK</td>\n      <td>1235.0</td>\n      <td>2.0</td>\n      <td>148.0</td>\n      <td>2</td>\n      <td>11983.805668</td>\n    </tr>\n    <tr>\n      <th>...</th>\n      <td>...</td>\n      <td>...</td>\n      <td>...</td>\n      <td>...</td>\n      <td>...</td>\n      <td>...</td>\n      <td>...</td>\n    </tr>\n    <tr>\n      <th>10292</th>\n      <td>other</td>\n      <td>2 BHK</td>\n      <td>1200.0</td>\n      <td>2.0</td>\n      <td>70.0</td>\n      <td>2</td>\n      <td>5833.333333</td>\n    </tr>\n    <tr>\n      <th>10293</th>\n      <td>other</td>\n      <td>1 BHK</td>\n      <td>1800.0</td>\n      <td>1.0</td>\n      <td>200.0</td>\n      <td>1</td>\n      <td>11111.111111</td>\n    </tr>\n    <tr>\n      <th>10296</th>\n      <td>other</td>\n      <td>2 BHK</td>\n      <td>1353.0</td>\n      <td>2.0</td>\n      <td>110.0</td>\n      <td>2</td>\n      <td>8130.081301</td>\n    </tr>\n    <tr>\n      <th>10297</th>\n      <td>other</td>\n      <td>1 Bedroom</td>\n      <td>812.0</td>\n      <td>1.0</td>\n      <td>26.0</td>\n      <td>1</td>\n      <td>3201.970443</td>\n    </tr>\n    <tr>\n      <th>10300</th>\n      <td>other</td>\n      <td>4 BHK</td>\n      <td>3600.0</td>\n      <td>5.0</td>\n      <td>400.0</td>\n      <td>4</td>\n      <td>11111.111111</td>\n    </tr>\n  </tbody>\n</table>\n<p>7360 rows × 7 columns</p>\n</div>\n      <button class=\"colab-df-convert\" onclick=\"convertToInteractive('df-61b83bef-c27c-4cbc-98c1-4254cfc71cc7')\"\n              title=\"Convert this dataframe to an interactive table.\"\n              style=\"display:none;\">\n        \n  <svg xmlns=\"http://www.w3.org/2000/svg\" height=\"24px\"viewBox=\"0 0 24 24\"\n       width=\"24px\">\n    <path d=\"M0 0h24v24H0V0z\" fill=\"none\"/>\n    <path d=\"M18.56 5.44l.94 2.06.94-2.06 2.06-.94-2.06-.94-.94-2.06-.94 2.06-2.06.94zm-11 1L8.5 8.5l.94-2.06 2.06-.94-2.06-.94L8.5 2.5l-.94 2.06-2.06.94zm10 10l.94 2.06.94-2.06 2.06-.94-2.06-.94-.94-2.06-.94 2.06-2.06.94z\"/><path d=\"M17.41 7.96l-1.37-1.37c-.4-.4-.92-.59-1.43-.59-.52 0-1.04.2-1.43.59L10.3 9.45l-7.72 7.72c-.78.78-.78 2.05 0 2.83L4 21.41c.39.39.9.59 1.41.59.51 0 1.02-.2 1.41-.59l7.78-7.78 2.81-2.81c.8-.78.8-2.07 0-2.86zM5.41 20L4 18.59l7.72-7.72 1.47 1.35L5.41 20z\"/>\n  </svg>\n      </button>\n      \n  <style>\n    .colab-df-container {\n      display:flex;\n      flex-wrap:wrap;\n      gap: 12px;\n    }\n\n    .colab-df-convert {\n      background-color: #E8F0FE;\n      border: none;\n      border-radius: 50%;\n      cursor: pointer;\n      display: none;\n      fill: #1967D2;\n      height: 32px;\n      padding: 0 0 0 0;\n      width: 32px;\n    }\n\n    .colab-df-convert:hover {\n      background-color: #E2EBFA;\n      box-shadow: 0px 1px 2px rgba(60, 64, 67, 0.3), 0px 1px 3px 1px rgba(60, 64, 67, 0.15);\n      fill: #174EA6;\n    }\n\n    [theme=dark] .colab-df-convert {\n      background-color: #3B4455;\n      fill: #D2E3FC;\n    }\n\n    [theme=dark] .colab-df-convert:hover {\n      background-color: #434B5C;\n      box-shadow: 0px 1px 3px 1px rgba(0, 0, 0, 0.15);\n      filter: drop-shadow(0px 1px 2px rgba(0, 0, 0, 0.3));\n      fill: #FFFFFF;\n    }\n  </style>\n\n      <script>\n        const buttonEl =\n          document.querySelector('#df-61b83bef-c27c-4cbc-98c1-4254cfc71cc7 button.colab-df-convert');\n        buttonEl.style.display =\n          google.colab.kernel.accessAllowed ? 'block' : 'none';\n\n        async function convertToInteractive(key) {\n          const element = document.querySelector('#df-61b83bef-c27c-4cbc-98c1-4254cfc71cc7');\n          const dataTable =\n            await google.colab.kernel.invokeFunction('convertToInteractive',\n                                                     [key], {});\n          if (!dataTable) return;\n\n          const docLinkHtml = 'Like what you see? Visit the ' +\n            '<a target=\"_blank\" href=https://colab.research.google.com/notebooks/data_table.ipynb>data table notebook</a>'\n            + ' to learn more about interactive tables.';\n          element.innerHTML = '';\n          dataTable['output_type'] = 'display_data';\n          await google.colab.output.renderOutput(dataTable, element);\n          const docLink = document.createElement('div');\n          docLink.innerHTML = docLinkHtml;\n          element.appendChild(docLink);\n        }\n      </script>\n    </div>\n  </div>\n  ",
            "text/plain": "                  location       size  total_sqft  ...  price  bhk  price_per_sqft\n0      1st Block Jayanagar      4 BHK      2850.0  ...  428.0    4    15017.543860\n1      1st Block Jayanagar      3 BHK      1630.0  ...  194.0    3    11901.840491\n2      1st Block Jayanagar      3 BHK      1875.0  ...  235.0    3    12533.333333\n3      1st Block Jayanagar      3 BHK      1200.0  ...  130.0    3    10833.333333\n4      1st Block Jayanagar      2 BHK      1235.0  ...  148.0    2    11983.805668\n...                    ...        ...         ...  ...    ...  ...             ...\n10292                other      2 BHK      1200.0  ...   70.0    2     5833.333333\n10293                other      1 BHK      1800.0  ...  200.0    1    11111.111111\n10296                other      2 BHK      1353.0  ...  110.0    2     8130.081301\n10297                other  1 Bedroom       812.0  ...   26.0    1     3201.970443\n10300                other      4 BHK      3600.0  ...  400.0    4    11111.111111\n\n[7360 rows x 7 columns]"
          },
          "metadata": {}
        }
      ],
      "execution_count": 40,
      "metadata": {
        "id": "Tx7fmM4CHjzl",
        "colab": {
          "base_uri": "https://localhost:8080/",
          "height": 423
        },
        "outputId": "66812833-cc4f-43be-e7a4-cbcc6255e745"
      }
    },
    {
      "cell_type": "code",
      "source": [
        "data.drop(columns=['size','price_per_sqft'], inplace=True)"
      ],
      "outputs": [],
      "execution_count": 41,
      "metadata": {
        "id": "14ETrUujHjxK"
      }
    },
    {
      "cell_type": "markdown",
      "source": [
        "# Cleaned Data"
      ],
      "metadata": {
        "id": "nOCIClQiIyU2"
      }
    },
    {
      "cell_type": "code",
      "source": [
        "data.head()"
      ],
      "outputs": [
        {
          "output_type": "execute_result",
          "execution_count": 42,
          "data": {
            "text/html": "\n  <div id=\"df-d6350d32-c021-4dae-a074-c11e901cc10c\">\n    <div class=\"colab-df-container\">\n      <div>\n<style scoped>\n    .dataframe tbody tr th:only-of-type {\n        vertical-align: middle;\n    }\n\n    .dataframe tbody tr th {\n        vertical-align: top;\n    }\n\n    .dataframe thead th {\n        text-align: right;\n    }\n</style>\n<table border=\"1\" class=\"dataframe\">\n  <thead>\n    <tr style=\"text-align: right;\">\n      <th></th>\n      <th>location</th>\n      <th>total_sqft</th>\n      <th>bath</th>\n      <th>price</th>\n      <th>bhk</th>\n    </tr>\n  </thead>\n  <tbody>\n    <tr>\n      <th>0</th>\n      <td>1st Block Jayanagar</td>\n      <td>2850.0</td>\n      <td>4.0</td>\n      <td>428.0</td>\n      <td>4</td>\n    </tr>\n    <tr>\n      <th>1</th>\n      <td>1st Block Jayanagar</td>\n      <td>1630.0</td>\n      <td>3.0</td>\n      <td>194.0</td>\n      <td>3</td>\n    </tr>\n    <tr>\n      <th>2</th>\n      <td>1st Block Jayanagar</td>\n      <td>1875.0</td>\n      <td>2.0</td>\n      <td>235.0</td>\n      <td>3</td>\n    </tr>\n    <tr>\n      <th>3</th>\n      <td>1st Block Jayanagar</td>\n      <td>1200.0</td>\n      <td>2.0</td>\n      <td>130.0</td>\n      <td>3</td>\n    </tr>\n    <tr>\n      <th>4</th>\n      <td>1st Block Jayanagar</td>\n      <td>1235.0</td>\n      <td>2.0</td>\n      <td>148.0</td>\n      <td>2</td>\n    </tr>\n  </tbody>\n</table>\n</div>\n      <button class=\"colab-df-convert\" onclick=\"convertToInteractive('df-d6350d32-c021-4dae-a074-c11e901cc10c')\"\n              title=\"Convert this dataframe to an interactive table.\"\n              style=\"display:none;\">\n        \n  <svg xmlns=\"http://www.w3.org/2000/svg\" height=\"24px\"viewBox=\"0 0 24 24\"\n       width=\"24px\">\n    <path d=\"M0 0h24v24H0V0z\" fill=\"none\"/>\n    <path d=\"M18.56 5.44l.94 2.06.94-2.06 2.06-.94-2.06-.94-.94-2.06-.94 2.06-2.06.94zm-11 1L8.5 8.5l.94-2.06 2.06-.94-2.06-.94L8.5 2.5l-.94 2.06-2.06.94zm10 10l.94 2.06.94-2.06 2.06-.94-2.06-.94-.94-2.06-.94 2.06-2.06.94z\"/><path d=\"M17.41 7.96l-1.37-1.37c-.4-.4-.92-.59-1.43-.59-.52 0-1.04.2-1.43.59L10.3 9.45l-7.72 7.72c-.78.78-.78 2.05 0 2.83L4 21.41c.39.39.9.59 1.41.59.51 0 1.02-.2 1.41-.59l7.78-7.78 2.81-2.81c.8-.78.8-2.07 0-2.86zM5.41 20L4 18.59l7.72-7.72 1.47 1.35L5.41 20z\"/>\n  </svg>\n      </button>\n      \n  <style>\n    .colab-df-container {\n      display:flex;\n      flex-wrap:wrap;\n      gap: 12px;\n    }\n\n    .colab-df-convert {\n      background-color: #E8F0FE;\n      border: none;\n      border-radius: 50%;\n      cursor: pointer;\n      display: none;\n      fill: #1967D2;\n      height: 32px;\n      padding: 0 0 0 0;\n      width: 32px;\n    }\n\n    .colab-df-convert:hover {\n      background-color: #E2EBFA;\n      box-shadow: 0px 1px 2px rgba(60, 64, 67, 0.3), 0px 1px 3px 1px rgba(60, 64, 67, 0.15);\n      fill: #174EA6;\n    }\n\n    [theme=dark] .colab-df-convert {\n      background-color: #3B4455;\n      fill: #D2E3FC;\n    }\n\n    [theme=dark] .colab-df-convert:hover {\n      background-color: #434B5C;\n      box-shadow: 0px 1px 3px 1px rgba(0, 0, 0, 0.15);\n      filter: drop-shadow(0px 1px 2px rgba(0, 0, 0, 0.3));\n      fill: #FFFFFF;\n    }\n  </style>\n\n      <script>\n        const buttonEl =\n          document.querySelector('#df-d6350d32-c021-4dae-a074-c11e901cc10c button.colab-df-convert');\n        buttonEl.style.display =\n          google.colab.kernel.accessAllowed ? 'block' : 'none';\n\n        async function convertToInteractive(key) {\n          const element = document.querySelector('#df-d6350d32-c021-4dae-a074-c11e901cc10c');\n          const dataTable =\n            await google.colab.kernel.invokeFunction('convertToInteractive',\n                                                     [key], {});\n          if (!dataTable) return;\n\n          const docLinkHtml = 'Like what you see? Visit the ' +\n            '<a target=\"_blank\" href=https://colab.research.google.com/notebooks/data_table.ipynb>data table notebook</a>'\n            + ' to learn more about interactive tables.';\n          element.innerHTML = '';\n          dataTable['output_type'] = 'display_data';\n          await google.colab.output.renderOutput(dataTable, element);\n          const docLink = document.createElement('div');\n          docLink.innerHTML = docLinkHtml;\n          element.appendChild(docLink);\n        }\n      </script>\n    </div>\n  </div>\n  ",
            "text/plain": "              location  total_sqft  bath  price  bhk\n0  1st Block Jayanagar      2850.0   4.0  428.0    4\n1  1st Block Jayanagar      1630.0   3.0  194.0    3\n2  1st Block Jayanagar      1875.0   2.0  235.0    3\n3  1st Block Jayanagar      1200.0   2.0  130.0    3\n4  1st Block Jayanagar      1235.0   2.0  148.0    2"
          },
          "metadata": {}
        }
      ],
      "execution_count": 42,
      "metadata": {
        "id": "MRoI4_YWIpKu",
        "colab": {
          "base_uri": "https://localhost:8080/",
          "height": 206
        },
        "outputId": "066113b6-5c48-4ce7-df10-d1bf34b895e9"
      }
    },
    {
      "cell_type": "code",
      "source": [
        "data.to_csv(\"Cleaned_data.csv\")\n",
        "data.describe()\n"
      ],
      "outputs": [
        {
          "output_type": "execute_result",
          "execution_count": 43,
          "data": {
            "text/html": "\n  <div id=\"df-0c45282e-6bfb-4149-89bc-4f37f92d1478\">\n    <div class=\"colab-df-container\">\n      <div>\n<style scoped>\n    .dataframe tbody tr th:only-of-type {\n        vertical-align: middle;\n    }\n\n    .dataframe tbody tr th {\n        vertical-align: top;\n    }\n\n    .dataframe thead th {\n        text-align: right;\n    }\n</style>\n<table border=\"1\" class=\"dataframe\">\n  <thead>\n    <tr style=\"text-align: right;\">\n      <th></th>\n      <th>total_sqft</th>\n      <th>bath</th>\n      <th>price</th>\n      <th>bhk</th>\n    </tr>\n  </thead>\n  <tbody>\n    <tr>\n      <th>count</th>\n      <td>7360.000000</td>\n      <td>7360.000000</td>\n      <td>7360.000000</td>\n      <td>7360.000000</td>\n    </tr>\n    <tr>\n      <th>mean</th>\n      <td>1496.928526</td>\n      <td>2.448098</td>\n      <td>99.094892</td>\n      <td>2.500543</td>\n    </tr>\n    <tr>\n      <th>std</th>\n      <td>865.839979</td>\n      <td>1.011563</td>\n      <td>93.343057</td>\n      <td>0.929357</td>\n    </tr>\n    <tr>\n      <th>min</th>\n      <td>300.000000</td>\n      <td>1.000000</td>\n      <td>10.000000</td>\n      <td>1.000000</td>\n    </tr>\n    <tr>\n      <th>25%</th>\n      <td>1095.750000</td>\n      <td>2.000000</td>\n      <td>50.000000</td>\n      <td>2.000000</td>\n    </tr>\n    <tr>\n      <th>50%</th>\n      <td>1260.000000</td>\n      <td>2.000000</td>\n      <td>73.100000</td>\n      <td>2.000000</td>\n    </tr>\n    <tr>\n      <th>75%</th>\n      <td>1680.000000</td>\n      <td>3.000000</td>\n      <td>113.000000</td>\n      <td>3.000000</td>\n    </tr>\n    <tr>\n      <th>max</th>\n      <td>30000.000000</td>\n      <td>16.000000</td>\n      <td>2200.000000</td>\n      <td>16.000000</td>\n    </tr>\n  </tbody>\n</table>\n</div>\n      <button class=\"colab-df-convert\" onclick=\"convertToInteractive('df-0c45282e-6bfb-4149-89bc-4f37f92d1478')\"\n              title=\"Convert this dataframe to an interactive table.\"\n              style=\"display:none;\">\n        \n  <svg xmlns=\"http://www.w3.org/2000/svg\" height=\"24px\"viewBox=\"0 0 24 24\"\n       width=\"24px\">\n    <path d=\"M0 0h24v24H0V0z\" fill=\"none\"/>\n    <path d=\"M18.56 5.44l.94 2.06.94-2.06 2.06-.94-2.06-.94-.94-2.06-.94 2.06-2.06.94zm-11 1L8.5 8.5l.94-2.06 2.06-.94-2.06-.94L8.5 2.5l-.94 2.06-2.06.94zm10 10l.94 2.06.94-2.06 2.06-.94-2.06-.94-.94-2.06-.94 2.06-2.06.94z\"/><path d=\"M17.41 7.96l-1.37-1.37c-.4-.4-.92-.59-1.43-.59-.52 0-1.04.2-1.43.59L10.3 9.45l-7.72 7.72c-.78.78-.78 2.05 0 2.83L4 21.41c.39.39.9.59 1.41.59.51 0 1.02-.2 1.41-.59l7.78-7.78 2.81-2.81c.8-.78.8-2.07 0-2.86zM5.41 20L4 18.59l7.72-7.72 1.47 1.35L5.41 20z\"/>\n  </svg>\n      </button>\n      \n  <style>\n    .colab-df-container {\n      display:flex;\n      flex-wrap:wrap;\n      gap: 12px;\n    }\n\n    .colab-df-convert {\n      background-color: #E8F0FE;\n      border: none;\n      border-radius: 50%;\n      cursor: pointer;\n      display: none;\n      fill: #1967D2;\n      height: 32px;\n      padding: 0 0 0 0;\n      width: 32px;\n    }\n\n    .colab-df-convert:hover {\n      background-color: #E2EBFA;\n      box-shadow: 0px 1px 2px rgba(60, 64, 67, 0.3), 0px 1px 3px 1px rgba(60, 64, 67, 0.15);\n      fill: #174EA6;\n    }\n\n    [theme=dark] .colab-df-convert {\n      background-color: #3B4455;\n      fill: #D2E3FC;\n    }\n\n    [theme=dark] .colab-df-convert:hover {\n      background-color: #434B5C;\n      box-shadow: 0px 1px 3px 1px rgba(0, 0, 0, 0.15);\n      filter: drop-shadow(0px 1px 2px rgba(0, 0, 0, 0.3));\n      fill: #FFFFFF;\n    }\n  </style>\n\n      <script>\n        const buttonEl =\n          document.querySelector('#df-0c45282e-6bfb-4149-89bc-4f37f92d1478 button.colab-df-convert');\n        buttonEl.style.display =\n          google.colab.kernel.accessAllowed ? 'block' : 'none';\n\n        async function convertToInteractive(key) {\n          const element = document.querySelector('#df-0c45282e-6bfb-4149-89bc-4f37f92d1478');\n          const dataTable =\n            await google.colab.kernel.invokeFunction('convertToInteractive',\n                                                     [key], {});\n          if (!dataTable) return;\n\n          const docLinkHtml = 'Like what you see? Visit the ' +\n            '<a target=\"_blank\" href=https://colab.research.google.com/notebooks/data_table.ipynb>data table notebook</a>'\n            + ' to learn more about interactive tables.';\n          element.innerHTML = '';\n          dataTable['output_type'] = 'display_data';\n          await google.colab.output.renderOutput(dataTable, element);\n          const docLink = document.createElement('div');\n          docLink.innerHTML = docLinkHtml;\n          element.appendChild(docLink);\n        }\n      </script>\n    </div>\n  </div>\n  ",
            "text/plain": "         total_sqft         bath        price          bhk\ncount   7360.000000  7360.000000  7360.000000  7360.000000\nmean    1496.928526     2.448098    99.094892     2.500543\nstd      865.839979     1.011563    93.343057     0.929357\nmin      300.000000     1.000000    10.000000     1.000000\n25%     1095.750000     2.000000    50.000000     2.000000\n50%     1260.000000     2.000000    73.100000     2.000000\n75%     1680.000000     3.000000   113.000000     3.000000\nmax    30000.000000    16.000000  2200.000000    16.000000"
          },
          "metadata": {}
        }
      ],
      "execution_count": 43,
      "metadata": {
        "id": "VsU3O_ZCIo9g",
        "colab": {
          "base_uri": "https://localhost:8080/",
          "height": 300
        },
        "outputId": "4a964b58-5685-4896-a757-32ef2bf884c3"
      }
    },
    {
      "cell_type": "code",
      "source": [
        "x=data.drop(columns=['price'])\n",
        "y=data['price']"
      ],
      "outputs": [],
      "execution_count": 44,
      "metadata": {
        "id": "Bg7zCvssIorb"
      }
    },
    {
      "cell_type": "code",
      "source": [
        "from sklearn.model_selection import train_test_split\n",
        "from sklearn.linear_model import LinearRegression, Lasso,Ridge\n",
        "from sklearn.preprocessing import OneHotEncoder, StandardScaler\n",
        "from sklearn.compose import make_column_transformer\n",
        "from sklearn.pipeline import make_pipeline\n",
        "from sklearn.metrics import r2_score"
      ],
      "outputs": [],
      "execution_count": 45,
      "metadata": {
        "id": "WnZ2KgvkJYGT"
      }
    },
    {
      "cell_type": "code",
      "source": [
        "x_train,x_test,y_train,y_test=train_test_split(x,y,test_size=0.2,random_state=0)"
      ],
      "outputs": [],
      "execution_count": 46,
      "metadata": {
        "id": "gOhCdHsLJYCy"
      }
    },
    {
      "cell_type": "code",
      "source": [
        "print(x_train.shape)\n",
        "print(x_test.shape)"
      ],
      "outputs": [
        {
          "output_type": "stream",
          "name": "stdout",
          "text": "(5888, 4)\n(1472, 4)\n"
        }
      ],
      "execution_count": 47,
      "metadata": {
        "id": "F6-AYAlCJYAB",
        "colab": {
          "base_uri": "https://localhost:8080/"
        },
        "outputId": "02fe6a3b-a933-42f5-acd7-8483ffb4e624"
      }
    },
    {
      "cell_type": "markdown",
      "source": [
        "# Applying Linear Regression"
      ],
      "metadata": {
        "id": "NGukavL9LKsw"
      }
    },
    {
      "cell_type": "code",
      "source": [
        "column_trans=make_column_transformer((OneHotEncoder(sparse=False),['location']),\n",
        "                                     remainder='passthrough')"
      ],
      "outputs": [],
      "execution_count": 48,
      "metadata": {
        "id": "soOX8NuKLQM2"
      }
    },
    {
      "cell_type": "code",
      "source": [
        "scaler=StandardScaler()"
      ],
      "outputs": [],
      "execution_count": 49,
      "metadata": {
        "id": "vRvmcQBrL8Sg"
      }
    },
    {
      "cell_type": "code",
      "source": [
        "lr=LinearRegression(normalize=True)"
      ],
      "outputs": [],
      "execution_count": 50,
      "metadata": {
        "id": "pZUQ4ubVL8O7"
      }
    },
    {
      "cell_type": "code",
      "source": [
        "pipe_lr=make_pipeline(column_trans,scaler,lr)"
      ],
      "outputs": [],
      "execution_count": 51,
      "metadata": {
        "id": "RmkQFZU3L8MO"
      }
    },
    {
      "cell_type": "code",
      "source": [
        "pipe_lr.fit(x_train,y_train)"
      ],
      "outputs": [
        {
          "output_type": "stream",
          "name": "stderr",
          "text": "/usr/local/lib/python3.7/dist-packages/sklearn/linear_model/_base.py:145: FutureWarning: 'normalize' was deprecated in version 1.0 and will be removed in 1.2.\nIf you wish to scale the data, use Pipeline with a StandardScaler in a preprocessing stage. To reproduce the previous behavior:\n\nfrom sklearn.pipeline import make_pipeline\n\nmodel = make_pipeline(StandardScaler(with_mean=False), LinearRegression())\n\nIf you wish to pass a sample_weight parameter, you need to pass it as a fit parameter to each step of the pipeline as follows:\n\nkwargs = {s[0] + '__sample_weight': sample_weight for s in model.steps}\nmodel.fit(X, y, **kwargs)\n\n\n  FutureWarning,\n"
        },
        {
          "output_type": "execute_result",
          "execution_count": 52,
          "data": {
            "text/plain": "Pipeline(steps=[('columntransformer',\n                 ColumnTransformer(remainder='passthrough',\n                                   transformers=[('onehotencoder',\n                                                  OneHotEncoder(sparse=False),\n                                                  ['location'])])),\n                ('standardscaler', StandardScaler()),\n                ('linearregression', LinearRegression(normalize=True))])"
          },
          "metadata": {}
        }
      ],
      "execution_count": 52,
      "metadata": {
        "id": "9v2kzf20N2yX",
        "colab": {
          "base_uri": "https://localhost:8080/"
        },
        "outputId": "da2fb8ed-807b-470d-8eb4-93951d6f30b9"
      }
    },
    {
      "cell_type": "code",
      "source": [
        "y_pred_lr=pipe_lr.predict(x_test)"
      ],
      "outputs": [],
      "execution_count": 53,
      "metadata": {
        "id": "_U6S-5J9N2ur"
      }
    },
    {
      "cell_type": "code",
      "source": [
        "r2_score(y_test,y_pred_lr)"
      ],
      "outputs": [
        {
          "output_type": "execute_result",
          "execution_count": 54,
          "data": {
            "text/plain": "0.8296327468514669"
          },
          "metadata": {}
        }
      ],
      "execution_count": 54,
      "metadata": {
        "id": "SddakfDlN2sQ",
        "colab": {
          "base_uri": "https://localhost:8080/"
        },
        "outputId": "4dccd4b6-f0f7-4749-ced3-b275ddaa1a7a"
      }
    },
    {
      "cell_type": "markdown",
      "source": [
        "# Applying Lasso"
      ],
      "metadata": {
        "id": "PDpE6NSNO_NS"
      }
    },
    {
      "cell_type": "code",
      "source": [
        "lasso=Lasso()"
      ],
      "outputs": [],
      "execution_count": 55,
      "metadata": {
        "id": "PdQOy4z0N2pv"
      }
    },
    {
      "cell_type": "code",
      "source": [
        "pipe=make_pipeline(column_trans,scaler,lasso)"
      ],
      "outputs": [],
      "execution_count": 56,
      "metadata": {
        "id": "SjxsPafKPMZu"
      }
    },
    {
      "cell_type": "code",
      "source": [
        "pipe.fit(x_train,y_train)"
      ],
      "outputs": [
        {
          "output_type": "execute_result",
          "execution_count": 57,
          "data": {
            "text/plain": "Pipeline(steps=[('columntransformer',\n                 ColumnTransformer(remainder='passthrough',\n                                   transformers=[('onehotencoder',\n                                                  OneHotEncoder(sparse=False),\n                                                  ['location'])])),\n                ('standardscaler', StandardScaler()), ('lasso', Lasso())])"
          },
          "metadata": {}
        }
      ],
      "execution_count": 57,
      "metadata": {
        "id": "tJ69m06fPMWh",
        "colab": {
          "base_uri": "https://localhost:8080/"
        },
        "outputId": "345dcad5-9fe6-4b0c-a2bc-4d79ab392ac8"
      }
    },
    {
      "cell_type": "code",
      "source": [
        "y_pred_lasso=pipe.predict(x_test)\n",
        "\n",
        "r2_score(y_test,y_pred_lasso)"
      ],
      "outputs": [
        {
          "output_type": "execute_result",
          "execution_count": 58,
          "data": {
            "text/plain": "0.8199181874762704"
          },
          "metadata": {}
        }
      ],
      "execution_count": 58,
      "metadata": {
        "id": "MzAuwblOPMTd",
        "colab": {
          "base_uri": "https://localhost:8080/"
        },
        "outputId": "1d2f2df6-c26b-4d6e-d5c2-1332319bc9d0"
      }
    },
    {
      "cell_type": "markdown",
      "source": [
        "# Applying Ridge"
      ],
      "metadata": {
        "id": "F0WUDChoPc2D"
      }
    },
    {
      "cell_type": "code",
      "source": [
        "ridge=Ridge()"
      ],
      "outputs": [],
      "execution_count": 59,
      "metadata": {
        "id": "96JOgnaLPMQx"
      }
    },
    {
      "cell_type": "code",
      "source": [
        "pipe=make_pipeline(column_trans,scaler,ridge)"
      ],
      "outputs": [],
      "execution_count": 60,
      "metadata": {
        "id": "TOxpn6G9PiSa"
      }
    },
    {
      "cell_type": "code",
      "source": [
        "pipe.fit(x_train,y_train)"
      ],
      "outputs": [
        {
          "output_type": "execute_result",
          "execution_count": 61,
          "data": {
            "text/plain": "Pipeline(steps=[('columntransformer',\n                 ColumnTransformer(remainder='passthrough',\n                                   transformers=[('onehotencoder',\n                                                  OneHotEncoder(sparse=False),\n                                                  ['location'])])),\n                ('standardscaler', StandardScaler()), ('ridge', Ridge())])"
          },
          "metadata": {}
        }
      ],
      "execution_count": 61,
      "metadata": {
        "id": "bD5SzZE8PiO-",
        "colab": {
          "base_uri": "https://localhost:8080/"
        },
        "outputId": "d50fa1b8-ecd8-4545-f16a-12b2ff9f79f6"
      }
    },
    {
      "cell_type": "code",
      "source": [
        "y_pred_ridge=pipe.predict(x_test)\n",
        "\n",
        "r2_score(y_test,y_pred_ridge)"
      ],
      "outputs": [
        {
          "output_type": "execute_result",
          "execution_count": 62,
          "data": {
            "text/plain": "0.8296651410179647"
          },
          "metadata": {}
        }
      ],
      "execution_count": 62,
      "metadata": {
        "id": "RvGNBmzAPiMc",
        "colab": {
          "base_uri": "https://localhost:8080/"
        },
        "outputId": "036e24d1-7ce5-40a3-cbcf-61852eac5314"
      }
    },
    {
      "cell_type": "code",
      "source": [
        "print(\"No Regularization: \",r2_score(y_test,y_pred_lr))\n",
        "print(\"Lasso: \", r2_score(y_test,y_pred_lasso))\n",
        "print(\"Ridge: \",r2_score(y_test,y_pred_ridge))"
      ],
      "outputs": [
        {
          "output_type": "stream",
          "name": "stdout",
          "text": "No Regularization:  0.8296327468514669\nLasso:  0.8199181874762704\nRidge:  0.8296651410179647\n"
        }
      ],
      "execution_count": 63,
      "metadata": {
        "id": "MMgt36mNP1Pl",
        "colab": {
          "base_uri": "https://localhost:8080/"
        },
        "outputId": "d70b1139-d8ca-4e2c-b30e-ce6cf51e90b5"
      }
    },
    {
      "cell_type": "code",
      "source": [
        "import pickle"
      ],
      "outputs": [],
      "execution_count": 64,
      "metadata": {
        "id": "pR_DPnJUQO8a"
      }
    },
    {
      "cell_type": "code",
      "source": [
        "pickle.dump(pipe_lr,open('RegressionModel.pkl','wb'))"
      ],
      "outputs": [],
      "execution_count": 65,
      "metadata": {
        "id": "zoBK4GozQR2n"
      }
    }
  ],
  "metadata": {
    "colab": {
      "name": "Ai final.ipynb",
      "provenance": [],
      "collapsed_sections": []
    },
    "kernelspec": {
      "name": "python3",
      "display_name": "Python 3"
    },
    "language_info": {
      "name": "python"
    },
    "nteract": {
      "version": "nteract-front-end@1.0.0"
    }
  },
  "nbformat": 4,
  "nbformat_minor": 0
}